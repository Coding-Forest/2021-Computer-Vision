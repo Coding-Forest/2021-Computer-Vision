{
  "nbformat": 4,
  "nbformat_minor": 0,
  "metadata": {
    "colab": {
      "name": "1021 MobileNet (fine-tuned) with Keras API.ipynb",
      "provenance": [],
      "collapsed_sections": [],
      "toc_visible": true
    },
    "kernelspec": {
      "name": "python3",
      "display_name": "Python 3"
    },
    "language_info": {
      "name": "python"
    },
    "accelerator": "GPU"
  },
  "cells": [
    {
      "cell_type": "markdown",
      "metadata": {
        "id": "9o2AGI_wCLB5"
      },
      "source": [
        "# Fine-Tuned MobileNet Image Classification using TensorFlow Keras library\n",
        "\n",
        "**Notes and Reference**  \n",
        "\n",
        "  1) Source code from:  \n",
        "- deeplizard (2020) Process Images for Fine-Tuned MobileNet with TensorFlow's Keras API https://www.youtube.com/watch?v=R39bFP1UCyk&ab_channel=deeplizard \n",
        "- deeplizard (2020) Fine-Tuning MobileNet on Custom Data Set with TensorFlow's Keras API https://deeplizard.com/learn/video/Zrt76AIbeh4\n",
        "\n",
        "2) Images from:  \n",
        "- ardamavi (2017) Sign-Language-Digits-Dataset https://github.com/ardamavi/Sign-Language-Digits-Dataset"
      ]
    },
    {
      "cell_type": "code",
      "metadata": {
        "id": "i9JltrwlicZs"
      },
      "source": [
        "import numpy as np\n",
        "import tensorflow as tf\n",
        "from tensorflow import keras\n",
        "from tensorflow.keras.layers import Dense, Activation\n",
        "from tensorflow.keras.optimizers import Adam\n",
        "from tensorflow.keras.metrics import categorical_crossentropy\n",
        "from tensorflow.keras.preprocessing.image import ImageDataGenerator\n",
        "from tensorflow.keras.preprocessing import image\n",
        "from tensorflow.keras.models import Model\n",
        "from tensorflow.keras.applications import imagenet_utils\n",
        "from sklearn.metrics import confusion_matrix\n",
        "import itertools\n",
        "import os\n",
        "import cv2\n",
        "import shutil\n",
        "import random\n",
        "import matplotlib.pyplot as plt\n",
        "%matplotlib inline"
      ],
      "execution_count": 1,
      "outputs": []
    },
    {
      "cell_type": "code",
      "metadata": {
        "colab": {
          "base_uri": "https://localhost:8080/"
        },
        "id": "CP2bw0Nki0OR",
        "outputId": "9e11b816-1fe2-4b5b-d83c-4fafdaedae50"
      },
      "source": [
        "physical_devices = tf.config.experimental.list_physical_devices('GPU')\n",
        "print(\"Num GPUs Available: \", len(physical_devices))\n",
        "tf.config.experimental.set_memory_growth(physical_devices[0], True)"
      ],
      "execution_count": 2,
      "outputs": [
        {
          "output_type": "stream",
          "name": "stdout",
          "text": [
            "Num GPUs Available:  1\n"
          ]
        }
      ]
    },
    {
      "cell_type": "markdown",
      "metadata": {
        "id": "D00fBHsg3N85"
      },
      "source": [
        "## 1) Prepare data\n",
        "- `import zipfile`\n",
        "  - `with zipfile.ZipFile(path, 'r') as zip_ref:`\n",
        "        zip_ref.extractall(DEST_DIR)"
      ]
    },
    {
      "cell_type": "code",
      "metadata": {
        "id": "oHKyCdXw04ct"
      },
      "source": [
        "import zipfile\n",
        "\n",
        "DEST_DIR = \"SignDigits\"\n",
        "os.makedirs(DEST_DIR)\n",
        "\n",
        "with zipfile.ZipFile(\"Sign-Language-Digits-Dataset-master.zip\", 'r') as zip_ref:\n",
        "    zip_ref.extractall(DEST_DIR)"
      ],
      "execution_count": null,
      "outputs": []
    },
    {
      "cell_type": "markdown",
      "metadata": {
        "id": "E3i8xT3u3_EI"
      },
      "source": [
        "### Split data - train, valid, test dirs\n",
        "- `shutil.move(origin, dest)`"
      ]
    },
    {
      "cell_type": "code",
      "metadata": {
        "id": "MfX7WWDtjZ_0"
      },
      "source": [
        "if os.path.isdir('train/0/') is False: # check if the directory is already set up.\n",
        "    os.mkdir('train')\n",
        "    os.mkdir('valid')\n",
        "    os.mkdir('test')\n",
        "\n",
        "    for i in range(0, 10):\n",
        "        shutil.move(f'{i}', 'train')\n",
        "        os.mkdir(f'valid/{i}')\n",
        "        os.mkdir(f'test/{i}')\n",
        "  \n",
        "        valid_samples = random.sample(os.listdir(f'train/{i}'), 30)\n",
        "        for j in valid_samples:\n",
        "            shutil.move(f'train/{i}/{j}', f'valid/{i}')\n",
        "\n",
        "        test_samples = random.sample(os.listdir(f'train/{i}'), 5)\n",
        "        for k in test_samples:\n",
        "            shutil.move(f'train/{i}/{k}', f'test/{i}')\n",
        "os.chdir('../..')"
      ],
      "execution_count": null,
      "outputs": []
    },
    {
      "cell_type": "markdown",
      "metadata": {
        "id": "CuGaMsF3wVOI"
      },
      "source": [
        "## 2) Create model\n",
        "- `ImageDataGenerator`: Generate batches of tensor image data with real-time data augmentation."
      ]
    },
    {
      "cell_type": "code",
      "metadata": {
        "id": "ohhEB4Qojhx5",
        "colab": {
          "base_uri": "https://localhost:8080/",
          "height": 67
        },
        "outputId": "4290b978-584f-4640-9aca-ba27b63ecdda"
      },
      "source": [
        "# resize train data to the MobileNet size\n",
        "SIZE = (224,224)\n",
        " \n",
        "# mobilenet.preprocess_input - scales RGB values (0-255) down to (-1~1) \n",
        "# flow_from_directory -  Takes the path to a directory & generates batches of augmented data.\n",
        "train_batches = ImageDataGenerator(preprocessing_function=tf.keras.applications.mobilenet.preprocess_input).flow_from_directory(directory=\"train\", target_size=SIZE, batch_size=10)\n",
        "valid_batches = ImageDataGenerator(preprocessing_function=tf.keras.applications.mobilenet.preprocess_input).flow_from_directory(directory=\"valid\", target_size=SIZE, batch_size=10)\n",
        "test_batches = ImageDataGenerator(preprocessing_function=tf.keras.applications.mobilenet.preprocess_input).flow_from_directory(directory=\"test\", target_size=SIZE, batch_size=10, shuffle=False)\n",
        "\n",
        "# Input images are not shuffuled in the test set because we want to plot the confusion matrix correctly. "
      ],
      "execution_count": 17,
      "outputs": [
        {
          "output_type": "display_data",
          "data": {
            "text/html": [
              "<style> pre { white-space: pre-wrap; }</style>"
            ],
            "text/plain": [
              "<IPython.core.display.HTML object>"
            ]
          },
          "metadata": {}
        },
        {
          "output_type": "stream",
          "name": "stdout",
          "text": [
            "Found 1712 images belonging to 10 classes.\n",
            "Found 300 images belonging to 10 classes.\n",
            "Found 50 images belonging to 10 classes.\n"
          ]
        }
      ]
    },
    {
      "cell_type": "markdown",
      "metadata": {
        "id": "GWk-IpbBAkNn"
      },
      "source": [
        "### `train_batches`\n",
        "Iterator capable of reading images from a directory on disk.\n",
        "\n",
        "Args:  \n",
        "- `directory`: Path to the directory to read images from. Each subdirectory in this directory will be considered to contain images from one class, or alternatively you could specify class subdirectories via the `classes` argument.\n",
        "- `image_data_generator`: Instance of `ImageDataGenerator` to use for random transformations and normalization.\n",
        "- `target_size`: tuple of integers, dimensions to resize input images to.\n",
        "- `color_mode`: One of `\"rgb\"`, `\"rgba\"`, `\"grayscale\"` Color mode to read images.\n",
        "- `classes`: Optional list of strings, names of subdirectories containing images from each class (e.g. `[\"dogs\", \"cats\"]`). It will be computed automatically if not set.\n",
        "- `class_mode`: Mode for yielding the targets:\n",
        "    - `\"binary\"`: binary targets (if there are only two classes),\n",
        "    - `\"categorical\"`: categorical targets,\n",
        "    - `\"sparse\"`: integer targets,\n",
        "    - `\"input\"`: targets are images identical to input images (mainly used to work with autoencoders),\n",
        "    - `None`: no targets get yielded (only input images are yielded).\n",
        "- `batch_size`: Integer, size of a batch.\n",
        "- `shuffle`: Boolean, whether to shuffle the data between epochs.\n",
        "- `seed`: Random seed for data shuffling.\n",
        "- `data_format`: String, one of `channels_first`, `channels_last`.\n",
        "- `save_to_dir`: Optional directory where to save the pictures being yielded, in a viewable format. This is useful for visualizing the random transformations being applied, for debugging purposes.\n",
        "- `save_prefix`: String prefix to use for saving sample images (if `save_to_dir` is set).\n",
        "- `save_format`: Format to use for saving sample images (if `save_to_dir` is set).\n",
        "- `subset`: Subset of data (`\"training\"` or `\"validation\"`) if `validation_split` is set in `ImageDataGenerator`.\n",
        "- `interpolation`: Interpolation method used to resample the image if the target size is different from that of the loaded image. Supported methods are \"nearest\", \"bilinear\", and \"bicubic\". If `PIL version 1.1.3` or newer is installed, \"lanczos\" is also supported. If PIL version 3.4.0 or newer is installed, `\"box\"` and `\"hamming\"` are also supported. By default, `\"nearest\"` is used.\n",
        "- `dtype`: Dtype to use for generated arrays."
      ]
    },
    {
      "cell_type": "code",
      "metadata": {
        "colab": {
          "base_uri": "https://localhost:8080/",
          "height": 33
        },
        "id": "HRiO9NtgAXP0",
        "outputId": "34c4c37b-dee8-4404-f760-6b0b4248997d"
      },
      "source": [
        "train_batches"
      ],
      "execution_count": 18,
      "outputs": [
        {
          "output_type": "display_data",
          "data": {
            "text/html": [
              "<style> pre { white-space: pre-wrap; }</style>"
            ],
            "text/plain": [
              "<IPython.core.display.HTML object>"
            ]
          },
          "metadata": {}
        },
        {
          "output_type": "execute_result",
          "data": {
            "text/plain": [
              "<keras.preprocessing.image.DirectoryIterator at 0x7fdba1b2c890>"
            ]
          },
          "metadata": {},
          "execution_count": 18
        }
      ]
    },
    {
      "cell_type": "markdown",
      "metadata": {
        "id": "8Xr1Zp2OwAek"
      },
      "source": [
        "## 3) Build & Fine-Tune the model\n",
        "Up to the sixth-last layer `lobal_average_pooling2d (Gl (None, 1024)` will be transferred to the new fine-tuned model. The last 5 layers won't be used. "
      ]
    },
    {
      "cell_type": "code",
      "metadata": {
        "colab": {
          "base_uri": "https://localhost:8080/",
          "height": 1000
        },
        "id": "Rt_wjvzFjhvw",
        "outputId": "ed7bb70f-e6cd-46c5-ddbb-d32a22dde072"
      },
      "source": [
        "mobile = tf.keras.applications.mobilenet.MobileNet()\n",
        "mobile.summary()"
      ],
      "execution_count": 19,
      "outputs": [
        {
          "output_type": "display_data",
          "data": {
            "text/html": [
              "<style> pre { white-space: pre-wrap; }</style>"
            ],
            "text/plain": [
              "<IPython.core.display.HTML object>"
            ]
          },
          "metadata": {}
        },
        {
          "output_type": "stream",
          "name": "stdout",
          "text": [
            "Downloading data from https://storage.googleapis.com/tensorflow/keras-applications/mobilenet/mobilenet_1_0_224_tf.h5\n",
            "17227776/17225924 [==============================] - 0s 0us/step\n",
            "17235968/17225924 [==============================] - 0s 0us/step\n",
            "Model: \"mobilenet_1.00_224\"\n",
            "_________________________________________________________________\n",
            "Layer (type)                 Output Shape              Param #   \n",
            "=================================================================\n",
            "input_1 (InputLayer)         [(None, 224, 224, 3)]     0         \n",
            "_________________________________________________________________\n",
            "conv1 (Conv2D)               (None, 112, 112, 32)      864       \n",
            "_________________________________________________________________\n",
            "conv1_bn (BatchNormalization (None, 112, 112, 32)      128       \n",
            "_________________________________________________________________\n",
            "conv1_relu (ReLU)            (None, 112, 112, 32)      0         \n",
            "_________________________________________________________________\n",
            "conv_dw_1 (DepthwiseConv2D)  (None, 112, 112, 32)      288       \n",
            "_________________________________________________________________\n",
            "conv_dw_1_bn (BatchNormaliza (None, 112, 112, 32)      128       \n",
            "_________________________________________________________________\n",
            "conv_dw_1_relu (ReLU)        (None, 112, 112, 32)      0         \n",
            "_________________________________________________________________\n",
            "conv_pw_1 (Conv2D)           (None, 112, 112, 64)      2048      \n",
            "_________________________________________________________________\n",
            "conv_pw_1_bn (BatchNormaliza (None, 112, 112, 64)      256       \n",
            "_________________________________________________________________\n",
            "conv_pw_1_relu (ReLU)        (None, 112, 112, 64)      0         \n",
            "_________________________________________________________________\n",
            "conv_pad_2 (ZeroPadding2D)   (None, 113, 113, 64)      0         \n",
            "_________________________________________________________________\n",
            "conv_dw_2 (DepthwiseConv2D)  (None, 56, 56, 64)        576       \n",
            "_________________________________________________________________\n",
            "conv_dw_2_bn (BatchNormaliza (None, 56, 56, 64)        256       \n",
            "_________________________________________________________________\n",
            "conv_dw_2_relu (ReLU)        (None, 56, 56, 64)        0         \n",
            "_________________________________________________________________\n",
            "conv_pw_2 (Conv2D)           (None, 56, 56, 128)       8192      \n",
            "_________________________________________________________________\n",
            "conv_pw_2_bn (BatchNormaliza (None, 56, 56, 128)       512       \n",
            "_________________________________________________________________\n",
            "conv_pw_2_relu (ReLU)        (None, 56, 56, 128)       0         \n",
            "_________________________________________________________________\n",
            "conv_dw_3 (DepthwiseConv2D)  (None, 56, 56, 128)       1152      \n",
            "_________________________________________________________________\n",
            "conv_dw_3_bn (BatchNormaliza (None, 56, 56, 128)       512       \n",
            "_________________________________________________________________\n",
            "conv_dw_3_relu (ReLU)        (None, 56, 56, 128)       0         \n",
            "_________________________________________________________________\n",
            "conv_pw_3 (Conv2D)           (None, 56, 56, 128)       16384     \n",
            "_________________________________________________________________\n",
            "conv_pw_3_bn (BatchNormaliza (None, 56, 56, 128)       512       \n",
            "_________________________________________________________________\n",
            "conv_pw_3_relu (ReLU)        (None, 56, 56, 128)       0         \n",
            "_________________________________________________________________\n",
            "conv_pad_4 (ZeroPadding2D)   (None, 57, 57, 128)       0         \n",
            "_________________________________________________________________\n",
            "conv_dw_4 (DepthwiseConv2D)  (None, 28, 28, 128)       1152      \n",
            "_________________________________________________________________\n",
            "conv_dw_4_bn (BatchNormaliza (None, 28, 28, 128)       512       \n",
            "_________________________________________________________________\n",
            "conv_dw_4_relu (ReLU)        (None, 28, 28, 128)       0         \n",
            "_________________________________________________________________\n",
            "conv_pw_4 (Conv2D)           (None, 28, 28, 256)       32768     \n",
            "_________________________________________________________________\n",
            "conv_pw_4_bn (BatchNormaliza (None, 28, 28, 256)       1024      \n",
            "_________________________________________________________________\n",
            "conv_pw_4_relu (ReLU)        (None, 28, 28, 256)       0         \n",
            "_________________________________________________________________\n",
            "conv_dw_5 (DepthwiseConv2D)  (None, 28, 28, 256)       2304      \n",
            "_________________________________________________________________\n",
            "conv_dw_5_bn (BatchNormaliza (None, 28, 28, 256)       1024      \n",
            "_________________________________________________________________\n",
            "conv_dw_5_relu (ReLU)        (None, 28, 28, 256)       0         \n",
            "_________________________________________________________________\n",
            "conv_pw_5 (Conv2D)           (None, 28, 28, 256)       65536     \n",
            "_________________________________________________________________\n",
            "conv_pw_5_bn (BatchNormaliza (None, 28, 28, 256)       1024      \n",
            "_________________________________________________________________\n",
            "conv_pw_5_relu (ReLU)        (None, 28, 28, 256)       0         \n",
            "_________________________________________________________________\n",
            "conv_pad_6 (ZeroPadding2D)   (None, 29, 29, 256)       0         \n",
            "_________________________________________________________________\n",
            "conv_dw_6 (DepthwiseConv2D)  (None, 14, 14, 256)       2304      \n",
            "_________________________________________________________________\n",
            "conv_dw_6_bn (BatchNormaliza (None, 14, 14, 256)       1024      \n",
            "_________________________________________________________________\n",
            "conv_dw_6_relu (ReLU)        (None, 14, 14, 256)       0         \n",
            "_________________________________________________________________\n",
            "conv_pw_6 (Conv2D)           (None, 14, 14, 512)       131072    \n",
            "_________________________________________________________________\n",
            "conv_pw_6_bn (BatchNormaliza (None, 14, 14, 512)       2048      \n",
            "_________________________________________________________________\n",
            "conv_pw_6_relu (ReLU)        (None, 14, 14, 512)       0         \n",
            "_________________________________________________________________\n",
            "conv_dw_7 (DepthwiseConv2D)  (None, 14, 14, 512)       4608      \n",
            "_________________________________________________________________\n",
            "conv_dw_7_bn (BatchNormaliza (None, 14, 14, 512)       2048      \n",
            "_________________________________________________________________\n",
            "conv_dw_7_relu (ReLU)        (None, 14, 14, 512)       0         \n",
            "_________________________________________________________________\n",
            "conv_pw_7 (Conv2D)           (None, 14, 14, 512)       262144    \n",
            "_________________________________________________________________\n",
            "conv_pw_7_bn (BatchNormaliza (None, 14, 14, 512)       2048      \n",
            "_________________________________________________________________\n",
            "conv_pw_7_relu (ReLU)        (None, 14, 14, 512)       0         \n",
            "_________________________________________________________________\n",
            "conv_dw_8 (DepthwiseConv2D)  (None, 14, 14, 512)       4608      \n",
            "_________________________________________________________________\n",
            "conv_dw_8_bn (BatchNormaliza (None, 14, 14, 512)       2048      \n",
            "_________________________________________________________________\n",
            "conv_dw_8_relu (ReLU)        (None, 14, 14, 512)       0         \n",
            "_________________________________________________________________\n",
            "conv_pw_8 (Conv2D)           (None, 14, 14, 512)       262144    \n",
            "_________________________________________________________________\n",
            "conv_pw_8_bn (BatchNormaliza (None, 14, 14, 512)       2048      \n",
            "_________________________________________________________________\n",
            "conv_pw_8_relu (ReLU)        (None, 14, 14, 512)       0         \n",
            "_________________________________________________________________\n",
            "conv_dw_9 (DepthwiseConv2D)  (None, 14, 14, 512)       4608      \n",
            "_________________________________________________________________\n",
            "conv_dw_9_bn (BatchNormaliza (None, 14, 14, 512)       2048      \n",
            "_________________________________________________________________\n",
            "conv_dw_9_relu (ReLU)        (None, 14, 14, 512)       0         \n",
            "_________________________________________________________________\n",
            "conv_pw_9 (Conv2D)           (None, 14, 14, 512)       262144    \n",
            "_________________________________________________________________\n",
            "conv_pw_9_bn (BatchNormaliza (None, 14, 14, 512)       2048      \n",
            "_________________________________________________________________\n",
            "conv_pw_9_relu (ReLU)        (None, 14, 14, 512)       0         \n",
            "_________________________________________________________________\n",
            "conv_dw_10 (DepthwiseConv2D) (None, 14, 14, 512)       4608      \n",
            "_________________________________________________________________\n",
            "conv_dw_10_bn (BatchNormaliz (None, 14, 14, 512)       2048      \n",
            "_________________________________________________________________\n",
            "conv_dw_10_relu (ReLU)       (None, 14, 14, 512)       0         \n",
            "_________________________________________________________________\n",
            "conv_pw_10 (Conv2D)          (None, 14, 14, 512)       262144    \n",
            "_________________________________________________________________\n",
            "conv_pw_10_bn (BatchNormaliz (None, 14, 14, 512)       2048      \n",
            "_________________________________________________________________\n",
            "conv_pw_10_relu (ReLU)       (None, 14, 14, 512)       0         \n",
            "_________________________________________________________________\n",
            "conv_dw_11 (DepthwiseConv2D) (None, 14, 14, 512)       4608      \n",
            "_________________________________________________________________\n",
            "conv_dw_11_bn (BatchNormaliz (None, 14, 14, 512)       2048      \n",
            "_________________________________________________________________\n",
            "conv_dw_11_relu (ReLU)       (None, 14, 14, 512)       0         \n",
            "_________________________________________________________________\n",
            "conv_pw_11 (Conv2D)          (None, 14, 14, 512)       262144    \n",
            "_________________________________________________________________\n",
            "conv_pw_11_bn (BatchNormaliz (None, 14, 14, 512)       2048      \n",
            "_________________________________________________________________\n",
            "conv_pw_11_relu (ReLU)       (None, 14, 14, 512)       0         \n",
            "_________________________________________________________________\n",
            "conv_pad_12 (ZeroPadding2D)  (None, 15, 15, 512)       0         \n",
            "_________________________________________________________________\n",
            "conv_dw_12 (DepthwiseConv2D) (None, 7, 7, 512)         4608      \n",
            "_________________________________________________________________\n",
            "conv_dw_12_bn (BatchNormaliz (None, 7, 7, 512)         2048      \n",
            "_________________________________________________________________\n",
            "conv_dw_12_relu (ReLU)       (None, 7, 7, 512)         0         \n",
            "_________________________________________________________________\n",
            "conv_pw_12 (Conv2D)          (None, 7, 7, 1024)        524288    \n",
            "_________________________________________________________________\n",
            "conv_pw_12_bn (BatchNormaliz (None, 7, 7, 1024)        4096      \n",
            "_________________________________________________________________\n",
            "conv_pw_12_relu (ReLU)       (None, 7, 7, 1024)        0         \n",
            "_________________________________________________________________\n",
            "conv_dw_13 (DepthwiseConv2D) (None, 7, 7, 1024)        9216      \n",
            "_________________________________________________________________\n",
            "conv_dw_13_bn (BatchNormaliz (None, 7, 7, 1024)        4096      \n",
            "_________________________________________________________________\n",
            "conv_dw_13_relu (ReLU)       (None, 7, 7, 1024)        0         \n",
            "_________________________________________________________________\n",
            "conv_pw_13 (Conv2D)          (None, 7, 7, 1024)        1048576   \n",
            "_________________________________________________________________\n",
            "conv_pw_13_bn (BatchNormaliz (None, 7, 7, 1024)        4096      \n",
            "_________________________________________________________________\n",
            "conv_pw_13_relu (ReLU)       (None, 7, 7, 1024)        0         \n",
            "_________________________________________________________________\n",
            "global_average_pooling2d (Gl (None, 1024)              0         \n",
            "_________________________________________________________________\n",
            "reshape_1 (Reshape)          (None, 1, 1, 1024)        0         \n",
            "_________________________________________________________________\n",
            "dropout (Dropout)            (None, 1, 1, 1024)        0         \n",
            "_________________________________________________________________\n",
            "conv_preds (Conv2D)          (None, 1, 1, 1000)        1025000   \n",
            "_________________________________________________________________\n",
            "reshape_2 (Reshape)          (None, 1000)              0         \n",
            "_________________________________________________________________\n",
            "predictions (Activation)     (None, 1000)              0         \n",
            "=================================================================\n",
            "Total params: 4,253,864\n",
            "Trainable params: 4,231,976\n",
            "Non-trainable params: 21,888\n",
            "_________________________________________________________________\n"
          ]
        }
      ]
    },
    {
      "cell_type": "code",
      "metadata": {
        "colab": {
          "base_uri": "https://localhost:8080/",
          "height": 212
        },
        "id": "2Q0aijJljhs3",
        "outputId": "30cd47b2-ac50-488b-f616-5c898a605fae"
      },
      "source": [
        "# skip this snippet.\n",
        "params = mobile.count_params()\n",
        "assert params['non_trainable_params'] == 21888\n",
        "assert params['trainable_params'] == 4231976"
      ],
      "execution_count": 20,
      "outputs": [
        {
          "output_type": "display_data",
          "data": {
            "text/html": [
              "<style> pre { white-space: pre-wrap; }</style>"
            ],
            "text/plain": [
              "<IPython.core.display.HTML object>"
            ]
          },
          "metadata": {}
        },
        {
          "output_type": "error",
          "ename": "TypeError",
          "evalue": "ignored",
          "traceback": [
            "\u001b[0;31m---------------------------------------------------------------------------\u001b[0m",
            "\u001b[0;31mTypeError\u001b[0m                                 Traceback (most recent call last)",
            "\u001b[0;32m<ipython-input-20-351dfab3a240>\u001b[0m in \u001b[0;36m<module>\u001b[0;34m()\u001b[0m\n\u001b[1;32m      1\u001b[0m \u001b[0;31m# skip this snippet.\u001b[0m\u001b[0;34m\u001b[0m\u001b[0;34m\u001b[0m\u001b[0;34m\u001b[0m\u001b[0m\n\u001b[1;32m      2\u001b[0m \u001b[0mparams\u001b[0m \u001b[0;34m=\u001b[0m \u001b[0mmobile\u001b[0m\u001b[0;34m.\u001b[0m\u001b[0mcount_params\u001b[0m\u001b[0;34m(\u001b[0m\u001b[0;34m)\u001b[0m\u001b[0;34m\u001b[0m\u001b[0;34m\u001b[0m\u001b[0m\n\u001b[0;32m----> 3\u001b[0;31m \u001b[0;32massert\u001b[0m \u001b[0mparams\u001b[0m\u001b[0;34m[\u001b[0m\u001b[0;34m'non_trainable_params'\u001b[0m\u001b[0;34m]\u001b[0m \u001b[0;34m==\u001b[0m \u001b[0;36m21888\u001b[0m\u001b[0;34m\u001b[0m\u001b[0;34m\u001b[0m\u001b[0m\n\u001b[0m\u001b[1;32m      4\u001b[0m \u001b[0;32massert\u001b[0m \u001b[0mparams\u001b[0m\u001b[0;34m[\u001b[0m\u001b[0;34m'trainable_params'\u001b[0m\u001b[0;34m]\u001b[0m \u001b[0;34m==\u001b[0m \u001b[0;36m4231976\u001b[0m\u001b[0;34m\u001b[0m\u001b[0;34m\u001b[0m\u001b[0m\n",
            "\u001b[0;31mTypeError\u001b[0m: 'int' object is not subscriptable"
          ]
        }
      ]
    },
    {
      "cell_type": "code",
      "metadata": {
        "id": "5B5_ifhxD6NF",
        "colab": {
          "base_uri": "https://localhost:8080/",
          "height": 17
        },
        "outputId": "268f0b1d-240c-4550-8818-9ddab40d7f7c"
      },
      "source": [
        "# grab the output from the sixth to last layer of the model\n",
        "x = mobile.layers[-6].output\n",
        "\n",
        "# The output layer; Units for 10 different digit classes\n",
        "# MobileNet is a functional model from Keras API, not a sequential API.\n",
        "output = Dense(units=10, activation='softmax')(x)"
      ],
      "execution_count": 21,
      "outputs": [
        {
          "output_type": "display_data",
          "data": {
            "text/html": [
              "<style> pre { white-space: pre-wrap; }</style>"
            ],
            "text/plain": [
              "<IPython.core.display.HTML object>"
            ]
          },
          "metadata": {}
        }
      ]
    },
    {
      "cell_type": "code",
      "metadata": {
        "id": "FcowDLBSjhpg",
        "colab": {
          "base_uri": "https://localhost:8080/",
          "height": 17
        },
        "outputId": "b634a8ba-5f95-4f70-f484-317609cfe905"
      },
      "source": [
        "model = Model(inputs=mobile.input, outputs=output)"
      ],
      "execution_count": 22,
      "outputs": [
        {
          "output_type": "display_data",
          "data": {
            "text/html": [
              "<style> pre { white-space: pre-wrap; }</style>"
            ],
            "text/plain": [
              "<IPython.core.display.HTML object>"
            ]
          },
          "metadata": {}
        }
      ]
    },
    {
      "cell_type": "code",
      "metadata": {
        "colab": {
          "base_uri": "https://localhost:8080/",
          "height": 1000
        },
        "id": "875Xi1YeEMmc",
        "outputId": "d2f09e1f-a17b-4c7a-c785-e9590b6bd892"
      },
      "source": [
        "# According to the tutorial, the results can be still meaningful enough \n",
        "# by using only the first 23 layers and freezing the last 6.\n",
        "for layer in model.layers[:-23]:\n",
        "    print(layer)\n",
        "    print(layer.trainable)\n",
        "    layer.trainable = False   # Not going to train, not going to use.\n",
        "    print(\"\")\n",
        "\n",
        "# by default, all layers are trainable."
      ],
      "execution_count": 23,
      "outputs": [
        {
          "output_type": "display_data",
          "data": {
            "text/html": [
              "<style> pre { white-space: pre-wrap; }</style>"
            ],
            "text/plain": [
              "<IPython.core.display.HTML object>"
            ]
          },
          "metadata": {}
        },
        {
          "output_type": "stream",
          "name": "stdout",
          "text": [
            "<keras.engine.input_layer.InputLayer object at 0x7fdbb2edbe50>\n",
            "True\n",
            "\n",
            "<keras.layers.convolutional.Conv2D object at 0x7fdb2cbae390>\n",
            "True\n",
            "\n",
            "<keras.layers.normalization.batch_normalization.BatchNormalization object at 0x7fdb2cb98990>\n",
            "True\n",
            "\n",
            "<keras.layers.advanced_activations.ReLU object at 0x7fdb2d3a1f50>\n",
            "True\n",
            "\n",
            "<keras.layers.convolutional.DepthwiseConv2D object at 0x7fdb2dafdd50>\n",
            "True\n",
            "\n",
            "<keras.layers.normalization.batch_normalization.BatchNormalization object at 0x7fdb2db0b0d0>\n",
            "True\n",
            "\n",
            "<keras.layers.advanced_activations.ReLU object at 0x7fdb2daa63d0>\n",
            "True\n",
            "\n",
            "<keras.layers.convolutional.Conv2D object at 0x7fdb2daa7390>\n",
            "True\n",
            "\n",
            "<keras.layers.normalization.batch_normalization.BatchNormalization object at 0x7fdb2dab1a10>\n",
            "True\n",
            "\n",
            "<keras.layers.advanced_activations.ReLU object at 0x7fdb2daac490>\n",
            "True\n",
            "\n",
            "<keras.layers.convolutional.ZeroPadding2D object at 0x7fdb2daa7cd0>\n",
            "True\n",
            "\n",
            "<keras.layers.convolutional.DepthwiseConv2D object at 0x7fdb2dac16d0>\n",
            "True\n",
            "\n",
            "<keras.layers.normalization.batch_normalization.BatchNormalization object at 0x7fdb2dac6c50>\n",
            "True\n",
            "\n",
            "<keras.layers.advanced_activations.ReLU object at 0x7fdb2dabb2d0>\n",
            "True\n",
            "\n",
            "<keras.layers.convolutional.Conv2D object at 0x7fdb2daca4d0>\n",
            "True\n",
            "\n",
            "<keras.layers.normalization.batch_normalization.BatchNormalization object at 0x7fdb2da552d0>\n",
            "True\n",
            "\n",
            "<keras.layers.advanced_activations.ReLU object at 0x7fdb2da4e710>\n",
            "True\n",
            "\n",
            "<keras.layers.convolutional.DepthwiseConv2D object at 0x7fdb2daaca50>\n",
            "True\n",
            "\n",
            "<keras.layers.normalization.batch_normalization.BatchNormalization object at 0x7fdb2da8f4d0>\n",
            "True\n",
            "\n",
            "<keras.layers.advanced_activations.ReLU object at 0x7fdb2d3a1a90>\n",
            "True\n",
            "\n",
            "<keras.layers.convolutional.Conv2D object at 0x7fdb2dac6a90>\n",
            "True\n",
            "\n",
            "<keras.layers.normalization.batch_normalization.BatchNormalization object at 0x7fdb2da59a10>\n",
            "True\n",
            "\n",
            "<keras.layers.advanced_activations.ReLU object at 0x7fdb2da60150>\n",
            "True\n",
            "\n",
            "<keras.layers.convolutional.ZeroPadding2D object at 0x7fdb2dabbfd0>\n",
            "True\n",
            "\n",
            "<keras.layers.convolutional.DepthwiseConv2D object at 0x7fdb2da6a190>\n",
            "True\n",
            "\n",
            "<keras.layers.normalization.batch_normalization.BatchNormalization object at 0x7fdb2da6fe10>\n",
            "True\n",
            "\n",
            "<keras.layers.advanced_activations.ReLU object at 0x7fdb2da73050>\n",
            "True\n",
            "\n",
            "<keras.layers.convolutional.Conv2D object at 0x7fdb2da6afd0>\n",
            "True\n",
            "\n",
            "<keras.layers.normalization.batch_normalization.BatchNormalization object at 0x7fdb2da7d450>\n",
            "True\n",
            "\n",
            "<keras.layers.advanced_activations.ReLU object at 0x7fdb2da86110>\n",
            "True\n",
            "\n",
            "<keras.layers.convolutional.DepthwiseConv2D object at 0x7fdb2da86650>\n",
            "True\n",
            "\n",
            "<keras.layers.normalization.batch_normalization.BatchNormalization object at 0x7fdb2da105d0>\n",
            "True\n",
            "\n",
            "<keras.layers.advanced_activations.ReLU object at 0x7fdb2da17850>\n",
            "True\n",
            "\n",
            "<keras.layers.convolutional.Conv2D object at 0x7fdb2da147d0>\n",
            "True\n",
            "\n",
            "<keras.layers.normalization.batch_normalization.BatchNormalization object at 0x7fdb2da220d0>\n",
            "True\n",
            "\n",
            "<keras.layers.advanced_activations.ReLU object at 0x7fdb2da2bad0>\n",
            "True\n",
            "\n",
            "<keras.layers.convolutional.ZeroPadding2D object at 0x7fdb2da2bb90>\n",
            "True\n",
            "\n",
            "<keras.layers.convolutional.DepthwiseConv2D object at 0x7fdb2da318d0>\n",
            "True\n",
            "\n",
            "<keras.layers.normalization.batch_normalization.BatchNormalization object at 0x7fdb2da35e90>\n",
            "True\n",
            "\n",
            "<keras.layers.advanced_activations.ReLU object at 0x7fdb2da40a50>\n",
            "True\n",
            "\n",
            "<keras.layers.convolutional.Conv2D object at 0x7fdb2da3b790>\n",
            "True\n",
            "\n",
            "<keras.layers.normalization.batch_normalization.BatchNormalization object at 0x7fdb2da4a150>\n",
            "True\n",
            "\n",
            "<keras.layers.advanced_activations.ReLU object at 0x7fdb2d9cc810>\n",
            "True\n",
            "\n",
            "<keras.layers.convolutional.DepthwiseConv2D object at 0x7fdb2d9ccc10>\n",
            "True\n",
            "\n",
            "<keras.layers.normalization.batch_normalization.BatchNormalization object at 0x7fdb2d9d8dd0>\n",
            "True\n",
            "\n",
            "<keras.layers.advanced_activations.ReLU object at 0x7fdb2d9e7c50>\n",
            "True\n",
            "\n",
            "<keras.layers.convolutional.Conv2D object at 0x7fdb2d9e2910>\n",
            "True\n",
            "\n",
            "<keras.layers.normalization.batch_normalization.BatchNormalization object at 0x7fdb2d9ec950>\n",
            "True\n",
            "\n",
            "<keras.layers.advanced_activations.ReLU object at 0x7fdb2d9f1fd0>\n",
            "True\n",
            "\n",
            "<keras.layers.convolutional.DepthwiseConv2D object at 0x7fdb2d9f7790>\n",
            "True\n",
            "\n",
            "<keras.layers.normalization.batch_normalization.BatchNormalization object at 0x7fdb2d9d8050>\n",
            "True\n",
            "\n",
            "<keras.layers.advanced_activations.ReLU object at 0x7fdb2d9fdc90>\n",
            "True\n",
            "\n",
            "<keras.layers.convolutional.Conv2D object at 0x7fdb2d9fde50>\n",
            "True\n",
            "\n",
            "<keras.layers.normalization.batch_normalization.BatchNormalization object at 0x7fdb2d98cc10>\n",
            "True\n",
            "\n",
            "<keras.layers.advanced_activations.ReLU object at 0x7fdb2d9fd810>\n",
            "True\n",
            "\n",
            "<keras.layers.convolutional.DepthwiseConv2D object at 0x7fdb2d9f1310>\n",
            "True\n",
            "\n",
            "<keras.layers.normalization.batch_normalization.BatchNormalization object at 0x7fdb2d996cd0>\n",
            "True\n",
            "\n",
            "<keras.layers.advanced_activations.ReLU object at 0x7fdb2da01250>\n",
            "True\n",
            "\n",
            "<keras.layers.convolutional.Conv2D object at 0x7fdb2d992210>\n",
            "True\n",
            "\n",
            "<keras.layers.normalization.batch_normalization.BatchNormalization object at 0x7fdb2d9d8690>\n",
            "True\n",
            "\n",
            "<keras.layers.advanced_activations.ReLU object at 0x7fdb2da40490>\n",
            "True\n",
            "\n",
            "<keras.layers.convolutional.DepthwiseConv2D object at 0x7fdb2da35150>\n",
            "True\n",
            "\n",
            "<keras.layers.normalization.batch_normalization.BatchNormalization object at 0x7fdb2da31350>\n",
            "True\n",
            "\n",
            "<keras.layers.advanced_activations.ReLU object at 0x7fdb2da14c10>\n",
            "True\n",
            "\n",
            "<keras.layers.convolutional.Conv2D object at 0x7fdb2da17890>\n",
            "True\n",
            "\n"
          ]
        }
      ]
    },
    {
      "cell_type": "code",
      "metadata": {
        "colab": {
          "base_uri": "https://localhost:8080/",
          "height": 1000
        },
        "id": "eqj4ezCAFAra",
        "outputId": "7d037fa5-7c35-4636-87c1-d74a00a0ee19"
      },
      "source": [
        "model.summary()"
      ],
      "execution_count": 24,
      "outputs": [
        {
          "output_type": "display_data",
          "data": {
            "text/html": [
              "<style> pre { white-space: pre-wrap; }</style>"
            ],
            "text/plain": [
              "<IPython.core.display.HTML object>"
            ]
          },
          "metadata": {}
        },
        {
          "output_type": "stream",
          "name": "stdout",
          "text": [
            "Model: \"model\"\n",
            "_________________________________________________________________\n",
            "Layer (type)                 Output Shape              Param #   \n",
            "=================================================================\n",
            "input_1 (InputLayer)         [(None, 224, 224, 3)]     0         \n",
            "_________________________________________________________________\n",
            "conv1 (Conv2D)               (None, 112, 112, 32)      864       \n",
            "_________________________________________________________________\n",
            "conv1_bn (BatchNormalization (None, 112, 112, 32)      128       \n",
            "_________________________________________________________________\n",
            "conv1_relu (ReLU)            (None, 112, 112, 32)      0         \n",
            "_________________________________________________________________\n",
            "conv_dw_1 (DepthwiseConv2D)  (None, 112, 112, 32)      288       \n",
            "_________________________________________________________________\n",
            "conv_dw_1_bn (BatchNormaliza (None, 112, 112, 32)      128       \n",
            "_________________________________________________________________\n",
            "conv_dw_1_relu (ReLU)        (None, 112, 112, 32)      0         \n",
            "_________________________________________________________________\n",
            "conv_pw_1 (Conv2D)           (None, 112, 112, 64)      2048      \n",
            "_________________________________________________________________\n",
            "conv_pw_1_bn (BatchNormaliza (None, 112, 112, 64)      256       \n",
            "_________________________________________________________________\n",
            "conv_pw_1_relu (ReLU)        (None, 112, 112, 64)      0         \n",
            "_________________________________________________________________\n",
            "conv_pad_2 (ZeroPadding2D)   (None, 113, 113, 64)      0         \n",
            "_________________________________________________________________\n",
            "conv_dw_2 (DepthwiseConv2D)  (None, 56, 56, 64)        576       \n",
            "_________________________________________________________________\n",
            "conv_dw_2_bn (BatchNormaliza (None, 56, 56, 64)        256       \n",
            "_________________________________________________________________\n",
            "conv_dw_2_relu (ReLU)        (None, 56, 56, 64)        0         \n",
            "_________________________________________________________________\n",
            "conv_pw_2 (Conv2D)           (None, 56, 56, 128)       8192      \n",
            "_________________________________________________________________\n",
            "conv_pw_2_bn (BatchNormaliza (None, 56, 56, 128)       512       \n",
            "_________________________________________________________________\n",
            "conv_pw_2_relu (ReLU)        (None, 56, 56, 128)       0         \n",
            "_________________________________________________________________\n",
            "conv_dw_3 (DepthwiseConv2D)  (None, 56, 56, 128)       1152      \n",
            "_________________________________________________________________\n",
            "conv_dw_3_bn (BatchNormaliza (None, 56, 56, 128)       512       \n",
            "_________________________________________________________________\n",
            "conv_dw_3_relu (ReLU)        (None, 56, 56, 128)       0         \n",
            "_________________________________________________________________\n",
            "conv_pw_3 (Conv2D)           (None, 56, 56, 128)       16384     \n",
            "_________________________________________________________________\n",
            "conv_pw_3_bn (BatchNormaliza (None, 56, 56, 128)       512       \n",
            "_________________________________________________________________\n",
            "conv_pw_3_relu (ReLU)        (None, 56, 56, 128)       0         \n",
            "_________________________________________________________________\n",
            "conv_pad_4 (ZeroPadding2D)   (None, 57, 57, 128)       0         \n",
            "_________________________________________________________________\n",
            "conv_dw_4 (DepthwiseConv2D)  (None, 28, 28, 128)       1152      \n",
            "_________________________________________________________________\n",
            "conv_dw_4_bn (BatchNormaliza (None, 28, 28, 128)       512       \n",
            "_________________________________________________________________\n",
            "conv_dw_4_relu (ReLU)        (None, 28, 28, 128)       0         \n",
            "_________________________________________________________________\n",
            "conv_pw_4 (Conv2D)           (None, 28, 28, 256)       32768     \n",
            "_________________________________________________________________\n",
            "conv_pw_4_bn (BatchNormaliza (None, 28, 28, 256)       1024      \n",
            "_________________________________________________________________\n",
            "conv_pw_4_relu (ReLU)        (None, 28, 28, 256)       0         \n",
            "_________________________________________________________________\n",
            "conv_dw_5 (DepthwiseConv2D)  (None, 28, 28, 256)       2304      \n",
            "_________________________________________________________________\n",
            "conv_dw_5_bn (BatchNormaliza (None, 28, 28, 256)       1024      \n",
            "_________________________________________________________________\n",
            "conv_dw_5_relu (ReLU)        (None, 28, 28, 256)       0         \n",
            "_________________________________________________________________\n",
            "conv_pw_5 (Conv2D)           (None, 28, 28, 256)       65536     \n",
            "_________________________________________________________________\n",
            "conv_pw_5_bn (BatchNormaliza (None, 28, 28, 256)       1024      \n",
            "_________________________________________________________________\n",
            "conv_pw_5_relu (ReLU)        (None, 28, 28, 256)       0         \n",
            "_________________________________________________________________\n",
            "conv_pad_6 (ZeroPadding2D)   (None, 29, 29, 256)       0         \n",
            "_________________________________________________________________\n",
            "conv_dw_6 (DepthwiseConv2D)  (None, 14, 14, 256)       2304      \n",
            "_________________________________________________________________\n",
            "conv_dw_6_bn (BatchNormaliza (None, 14, 14, 256)       1024      \n",
            "_________________________________________________________________\n",
            "conv_dw_6_relu (ReLU)        (None, 14, 14, 256)       0         \n",
            "_________________________________________________________________\n",
            "conv_pw_6 (Conv2D)           (None, 14, 14, 512)       131072    \n",
            "_________________________________________________________________\n",
            "conv_pw_6_bn (BatchNormaliza (None, 14, 14, 512)       2048      \n",
            "_________________________________________________________________\n",
            "conv_pw_6_relu (ReLU)        (None, 14, 14, 512)       0         \n",
            "_________________________________________________________________\n",
            "conv_dw_7 (DepthwiseConv2D)  (None, 14, 14, 512)       4608      \n",
            "_________________________________________________________________\n",
            "conv_dw_7_bn (BatchNormaliza (None, 14, 14, 512)       2048      \n",
            "_________________________________________________________________\n",
            "conv_dw_7_relu (ReLU)        (None, 14, 14, 512)       0         \n",
            "_________________________________________________________________\n",
            "conv_pw_7 (Conv2D)           (None, 14, 14, 512)       262144    \n",
            "_________________________________________________________________\n",
            "conv_pw_7_bn (BatchNormaliza (None, 14, 14, 512)       2048      \n",
            "_________________________________________________________________\n",
            "conv_pw_7_relu (ReLU)        (None, 14, 14, 512)       0         \n",
            "_________________________________________________________________\n",
            "conv_dw_8 (DepthwiseConv2D)  (None, 14, 14, 512)       4608      \n",
            "_________________________________________________________________\n",
            "conv_dw_8_bn (BatchNormaliza (None, 14, 14, 512)       2048      \n",
            "_________________________________________________________________\n",
            "conv_dw_8_relu (ReLU)        (None, 14, 14, 512)       0         \n",
            "_________________________________________________________________\n",
            "conv_pw_8 (Conv2D)           (None, 14, 14, 512)       262144    \n",
            "_________________________________________________________________\n",
            "conv_pw_8_bn (BatchNormaliza (None, 14, 14, 512)       2048      \n",
            "_________________________________________________________________\n",
            "conv_pw_8_relu (ReLU)        (None, 14, 14, 512)       0         \n",
            "_________________________________________________________________\n",
            "conv_dw_9 (DepthwiseConv2D)  (None, 14, 14, 512)       4608      \n",
            "_________________________________________________________________\n",
            "conv_dw_9_bn (BatchNormaliza (None, 14, 14, 512)       2048      \n",
            "_________________________________________________________________\n",
            "conv_dw_9_relu (ReLU)        (None, 14, 14, 512)       0         \n",
            "_________________________________________________________________\n",
            "conv_pw_9 (Conv2D)           (None, 14, 14, 512)       262144    \n",
            "_________________________________________________________________\n",
            "conv_pw_9_bn (BatchNormaliza (None, 14, 14, 512)       2048      \n",
            "_________________________________________________________________\n",
            "conv_pw_9_relu (ReLU)        (None, 14, 14, 512)       0         \n",
            "_________________________________________________________________\n",
            "conv_dw_10 (DepthwiseConv2D) (None, 14, 14, 512)       4608      \n",
            "_________________________________________________________________\n",
            "conv_dw_10_bn (BatchNormaliz (None, 14, 14, 512)       2048      \n",
            "_________________________________________________________________\n",
            "conv_dw_10_relu (ReLU)       (None, 14, 14, 512)       0         \n",
            "_________________________________________________________________\n",
            "conv_pw_10 (Conv2D)          (None, 14, 14, 512)       262144    \n",
            "_________________________________________________________________\n",
            "conv_pw_10_bn (BatchNormaliz (None, 14, 14, 512)       2048      \n",
            "_________________________________________________________________\n",
            "conv_pw_10_relu (ReLU)       (None, 14, 14, 512)       0         \n",
            "_________________________________________________________________\n",
            "conv_dw_11 (DepthwiseConv2D) (None, 14, 14, 512)       4608      \n",
            "_________________________________________________________________\n",
            "conv_dw_11_bn (BatchNormaliz (None, 14, 14, 512)       2048      \n",
            "_________________________________________________________________\n",
            "conv_dw_11_relu (ReLU)       (None, 14, 14, 512)       0         \n",
            "_________________________________________________________________\n",
            "conv_pw_11 (Conv2D)          (None, 14, 14, 512)       262144    \n",
            "_________________________________________________________________\n",
            "conv_pw_11_bn (BatchNormaliz (None, 14, 14, 512)       2048      \n",
            "_________________________________________________________________\n",
            "conv_pw_11_relu (ReLU)       (None, 14, 14, 512)       0         \n",
            "_________________________________________________________________\n",
            "conv_pad_12 (ZeroPadding2D)  (None, 15, 15, 512)       0         \n",
            "_________________________________________________________________\n",
            "conv_dw_12 (DepthwiseConv2D) (None, 7, 7, 512)         4608      \n",
            "_________________________________________________________________\n",
            "conv_dw_12_bn (BatchNormaliz (None, 7, 7, 512)         2048      \n",
            "_________________________________________________________________\n",
            "conv_dw_12_relu (ReLU)       (None, 7, 7, 512)         0         \n",
            "_________________________________________________________________\n",
            "conv_pw_12 (Conv2D)          (None, 7, 7, 1024)        524288    \n",
            "_________________________________________________________________\n",
            "conv_pw_12_bn (BatchNormaliz (None, 7, 7, 1024)        4096      \n",
            "_________________________________________________________________\n",
            "conv_pw_12_relu (ReLU)       (None, 7, 7, 1024)        0         \n",
            "_________________________________________________________________\n",
            "conv_dw_13 (DepthwiseConv2D) (None, 7, 7, 1024)        9216      \n",
            "_________________________________________________________________\n",
            "conv_dw_13_bn (BatchNormaliz (None, 7, 7, 1024)        4096      \n",
            "_________________________________________________________________\n",
            "conv_dw_13_relu (ReLU)       (None, 7, 7, 1024)        0         \n",
            "_________________________________________________________________\n",
            "conv_pw_13 (Conv2D)          (None, 7, 7, 1024)        1048576   \n",
            "_________________________________________________________________\n",
            "conv_pw_13_bn (BatchNormaliz (None, 7, 7, 1024)        4096      \n",
            "_________________________________________________________________\n",
            "conv_pw_13_relu (ReLU)       (None, 7, 7, 1024)        0         \n",
            "_________________________________________________________________\n",
            "global_average_pooling2d (Gl (None, 1024)              0         \n",
            "_________________________________________________________________\n",
            "dense (Dense)                (None, 10)                10250     \n",
            "=================================================================\n",
            "Total params: 3,239,114\n",
            "Trainable params: 1,873,930\n",
            "Non-trainable params: 1,365,184\n",
            "_________________________________________________________________\n"
          ]
        }
      ]
    },
    {
      "cell_type": "code",
      "metadata": {
        "colab": {
          "base_uri": "https://localhost:8080/",
          "height": 67
        },
        "id": "BAaqSCkrXLSJ",
        "outputId": "9fcf5fc1-c037-467f-e910-551c322894a3"
      },
      {
      "cell_type": "markdown",
      "metadata": {
        "id": "UwZyJcaIZfLn"
      },
      "source": [
        "- `model.compile()`: configures the model to be ready for training.\n",
        "- `modle.fit(x, y)`: trains the sequential model. `x` and `y` must be specified."
      ]
    },
      "source": [
        "model.compile(optimizer=Adam(lr=0.0001), loss='categorical_crossentropy', metrics=['accuracy']) "
      ],
      "execution_count": 25,
      "outputs": [
        {
          "output_type": "display_data",
          "data": {
            "text/html": [
              "<style> pre { white-space: pre-wrap; }</style>"
            ],
            "text/plain": [
              "<IPython.core.display.HTML object>"
            ]
          },
          "metadata": {}
        },
        {
          "output_type": "stream",
          "name": "stderr",
          "text": [
            "/usr/local/lib/python3.7/dist-packages/keras/optimizer_v2/optimizer_v2.py:356: UserWarning: The `lr` argument is deprecated, use `learning_rate` instead.\n",
            "  \"The `lr` argument is deprecated, use `learning_rate` instead.\")\n"
          ]
        }
      ]
    },
    {
      "cell_type": "markdown",
      "metadata": {
        "id": "UwZyJcaIZfLn"
      },
      "source": [
        "## 4) Training Results\n",
        "- Overfitting\n",
        "  - overfit issue: if the validation accuracy is lower than the train accuracy, it can be concluded as overfit. "
      ]
    },
    {
      "cell_type": "code",
      "metadata": {
        "colab": {
          "base_uri": "https://localhost:8080/",
          "height": 368
        },
        "id": "1cLgAA-eX42L",
        "outputId": "a24bcdf5-122f-436e-b07b-b72f49ec5eb4"
      },
      "source": [
        "# Run for mor+e epochs (~30) to see better results\n",
        "model.fit(x=train_batches, validation_data=valid_batches, epochs=10, verbose=2)"
      ],
      "execution_count": 27,
      "outputs": [
        {
          "output_type": "display_data",
          "data": {
            "text/html": [
              "<style> pre { white-space: pre-wrap; }</style>"
            ],
            "text/plain": [
              "<IPython.core.display.HTML object>"
            ]
          },
          "metadata": {}
        },
        {
          "output_type": "stream",
          "name": "stdout",
          "text": [
            "Epoch 1/10\n",
            "172/172 - 105s - loss: 0.1140 - accuracy: 0.9825 - val_loss: 0.0923 - val_accuracy: 0.9800\n",
            "Epoch 2/10\n",
            "172/172 - 10s - loss: 0.0809 - accuracy: 0.9889 - val_loss: 0.0867 - val_accuracy: 0.9833\n",
            "Epoch 3/10\n",
            "172/172 - 10s - loss: 0.0413 - accuracy: 0.9959 - val_loss: 0.0522 - val_accuracy: 0.9833\n",
            "Epoch 4/10\n",
            "172/172 - 10s - loss: 0.0264 - accuracy: 0.9965 - val_loss: 0.0433 - val_accuracy: 0.9833\n",
            "Epoch 5/10\n",
            "172/172 - 10s - loss: 0.0183 - accuracy: 1.0000 - val_loss: 0.0356 - val_accuracy: 0.9967\n",
            "Epoch 6/10\n",
            "172/172 - 10s - loss: 0.0169 - accuracy: 0.9971 - val_loss: 0.0348 - val_accuracy: 0.9933\n",
            "Epoch 7/10\n",
            "172/172 - 10s - loss: 0.0101 - accuracy: 1.0000 - val_loss: 0.0236 - val_accuracy: 0.9967\n",
            "Epoch 8/10\n",
            "172/172 - 10s - loss: 0.0089 - accuracy: 1.0000 - val_loss: 0.0270 - val_accuracy: 0.9933\n",
            "Epoch 9/10\n",
            "172/172 - 10s - loss: 0.0077 - accuracy: 1.0000 - val_loss: 0.0278 - val_accuracy: 0.9900\n",
            "Epoch 10/10\n",
            "172/172 - 10s - loss: 0.0102 - accuracy: 0.9988 - val_loss: 0.0387 - val_accuracy: 0.9867\n"
          ]
        },
        {
          "output_type": "execute_result",
          "data": {
            "text/plain": [
              "<keras.callbacks.History at 0x7fdb22fe5e90>"
            ]
          },
          "metadata": {},
          "execution_count": 27
        }
      ]
    },
    {
      "cell_type": "markdown",
      "metadata": {
        "id": "cS-Z69ZfalkA"
      },
      "source": [
        "## 5) Prediction Results\n",
        "Predict sign language digits"
      ]
    },
    {
      "cell_type": "code",
      "metadata": {
        "colab": {
          "base_uri": "https://localhost:8080/",
          "height": 17
        },
        "id": "_Zkx_vEvbKPA",
        "outputId": "3bfe772a-06bc-4344-bd7b-2a0ddea8743b"
      },
      "source": [
        "def plot_confusion_matrix(cm, classes, normalize=False, title=\"Confusion Matrix\", cmap=plt.cm.Blues):\n",
        "    plt.imshow(cm, interpolation='nearest', cmap=cmap)\n",
        "    plt.title(title)\n",
        "    plt.colorbar()\n",
        "    tick_marks=np.arange(len(classes))\n",
        "    plt.xticks(tick_marks, classes, rotation=45)\n",
        "    plt.yticks(tick_marks, classes)\n",
        "\n",
        "    if normalize: \n",
        "        cm=cm.astype('float') / cm.sum(axis=1)[:, np.newaxis]\n",
        "        print(\"Normalised confusion matrix\")\n",
        "    else:\n",
        "        print(\"Confusion matrix without normalisation\")\n",
        "    \n",
        "    print(cm)\n",
        "\n",
        "    thresh = cm.max() / 2.\n",
        "    for i, j in itertools.product(range(cm.shape[0]), range(cm.shape[1])):\n",
        "        plt.text(j, i, cm[i, j],\n",
        "                 horizontalalignment=\"center\",\n",
        "                 color=\"white\" if cm[i, j] > thresh else \"black\")\n",
        "    \n",
        "    plt.tight_layout()\n",
        "    plt.ylabel(\"True label\")\n",
        "    plt.xlabel(\"Predicted label\")\n"
      ],
      "execution_count": 41,
      "outputs": [
        {
          "output_type": "display_data",
          "data": {
            "text/html": [
              "<style> pre { white-space: pre-wrap; }</style>"
            ],
            "text/plain": [
              "<IPython.core.display.HTML object>"
            ]
          },
          "metadata": {}
        }
      ]
    },
    {
      "cell_type": "code",
      "metadata": {
        "colab": {
          "base_uri": "https://localhost:8080/",
          "height": 17
        },
        "id": "lGxCt54QYAUx",
        "outputId": "cce7bb40-1f74-47fe-db61-79bc632a595a"
      },
      "source": [
        "test_labels = test_batches.classes "
      ],
      "execution_count": 28,
      "outputs": [
        {
          "output_type": "display_data",
          "data": {
            "text/html": [
              "<style> pre { white-space: pre-wrap; }</style>"
            ],
            "text/plain": [
              "<IPython.core.display.HTML object>"
            ]
          },
          "metadata": {}
        }
      ]
    },
    {
      "cell_type": "code",
      "metadata": {
        "colab": {
          "base_uri": "https://localhost:8080/",
          "height": 33
        },
        "id": "J0QcKiydarFL",
        "outputId": "6077948a-6f60-4654-8ce5-66fb4172f7a4"
      },
      "source": [
        "predictions = model.predict(x=test_batches, verbose=1)"
      ],
      "execution_count": 33,
      "outputs": [
        {
          "output_type": "display_data",
          "data": {
            "text/html": [
              "<style> pre { white-space: pre-wrap; }</style>"
            ],
            "text/plain": [
              "<IPython.core.display.HTML object>"
            ]
          },
          "metadata": {}
        },
        {
          "output_type": "stream",
          "name": "stdout",
          "text": [
            "5/5 [==============================] - 0s 44ms/step\n"
          ]
        }
      ]
    },
    {
      "cell_type": "code",
      "metadata": {
        "colab": {
          "base_uri": "https://localhost:8080/",
          "height": 17
        },
        "id": "PhzlQWveataQ",
        "outputId": "ee871ab4-2825-4ddc-b453-d0ad72b34a2b"
      },
      "source": [
        "cm = confusion_matrix(y_true=test_labels, y_pred=predictions.argmax(axis=1))"
      ],
      "execution_count": 30,
      "outputs": [
        {
          "output_type": "display_data",
          "data": {
            "text/html": [
              "<style> pre { white-space: pre-wrap; }</style>"
            ],
            "text/plain": [
              "<IPython.core.display.HTML object>"
            ]
          },
          "metadata": {}
        }
      ]
    },
    {
      "cell_type": "code",
      "metadata": {
        "colab": {
          "base_uri": "https://localhost:8080/",
          "height": 184
        },
        "id": "mJCw-a4gayV7",
        "outputId": "ba321e00-0172-40c9-e376-7a7b3b5cf18a"
      },
      "source": [
        "test_batches.class_indices"
      ],
      "execution_count": 31,
      "outputs": [
        {
          "output_type": "display_data",
          "data": {
            "text/html": [
              "<style> pre { white-space: pre-wrap; }</style>"
            ],
            "text/plain": [
              "<IPython.core.display.HTML object>"
            ]
          },
          "metadata": {}
        },
        {
          "output_type": "execute_result",
          "data": {
            "text/plain": [
              "{'0': 0,\n",
              " '1': 1,\n",
              " '2': 2,\n",
              " '3': 3,\n",
              " '4': 4,\n",
              " '5': 5,\n",
              " '6': 6,\n",
              " '7': 7,\n",
              " '8': 8,\n",
              " '9': 9}"
            ]
          },
          "metadata": {},
          "execution_count": 31
        }
      ]
    },
    {
      "cell_type": "markdown",
      "metadata": {
        "id": "yMzvgQkbcwe_"
      },
      "source": [
        "- 5 samples per class.\n"
      ]
    },
    {
      "cell_type": "markdown",
      "metadata": {
        "id": "jx4pi57sdap7"
      },
      "source": [
        "### Interpretation\n",
        "- 5 test samples per class.\n",
        "- The identity digonal represents the accuracy of the predictions for each class.\n",
        "    - For instance, the model predicted 0 5 times correctly for the true '0' labels. \n",
        "    - One true label (6) was predicted as '4'. "
      ]
    },
    {
      "cell_type": "code",
      "metadata": {
        "colab": {
          "base_uri": "https://localhost:8080/",
          "height": 495
        },
        "id": "1j0SwZmRa0X7",
        "outputId": "e4cf19cd-e911-46f7-ace0-78e1c94b1ba7"
      },
      "source": [
        "# Train the model for more epochs to see better results\n",
        "cm_plot_labels = [\"0\", \"1\", \"2\", \"3\", \"4\", \"5\", \"6\", \"7\", \"8\", \"9\"]\n",
        "plot_confusion_matrix(cm=cm, classes=cm_plot_labels, title=\"Confusion Matrix\")"
      ],
      "execution_count": 42,
      "outputs": [
        {
          "output_type": "display_data",
          "data": {
            "text/html": [
              "<style> pre { white-space: pre-wrap; }</style>"
            ],
            "text/plain": [
              "<IPython.core.display.HTML object>"
            ]
          },
          "metadata": {}
        },
        {
          "output_type": "stream",
          "name": "stdout",
          "text": [
            "Confusion matrix without normalisation\n",
            "[[5 0 0 0 0 0 0 0 0 0]\n",
            " [0 5 0 0 0 0 0 0 0 0]\n",
            " [0 0 5 0 0 0 0 0 0 0]\n",
            " [0 0 0 5 0 0 0 0 0 0]\n",
            " [0 0 0 0 5 0 0 0 0 0]\n",
            " [0 0 0 0 0 5 0 0 0 0]\n",
            " [0 0 0 0 1 0 4 0 0 0]\n",
            " [0 0 0 0 0 0 0 5 0 0]\n",
            " [0 0 0 0 0 0 0 0 5 0]\n",
            " [0 0 0 0 0 0 0 0 0 5]]\n"
          ]
        },
        {
          "output_type": "display_data",
          "data": {
            "image/png": "iVBORw0KGgoAAAANSUhEUgAAAT8AAAEmCAYAAAAUf5f4AAAABHNCSVQICAgIfAhkiAAAAAlwSFlzAAALEgAACxIB0t1+/AAAADh0RVh0U29mdHdhcmUAbWF0cGxvdGxpYiB2ZXJzaW9uMy4yLjIsIGh0dHA6Ly9tYXRwbG90bGliLm9yZy+WH4yJAAAgAElEQVR4nO3deZxcVZ338c83HUIIBAxJ2AIICIIBDEvYkWGVsLiMgwOKqIAiI0FFeHjUcVcclxmEeYTRKA5iwo5R9uVRGQgjGBIhw6qyCQlIgux7wm/+uLehaNLVt6rvqapb9X3zqhe13Prem+rq0+cu5/wUEZiZ9ZoR7d4AM7N2cONnZj3JjZ+Z9SQ3fmbWk9z4mVlPcuNnZj3JjV+PkbSSpEskPSnpgmHkHCrp6jK3rR0kXSHpI+3eDms9N34dStIHJd0s6RlJD+e/pLuWEH0QsCYwPiLe32xIRMyKiHeWsD2vI2l3SSFp9oDnp+TPX1sw56uSZg61XETsFxE/a3JzrcLc+HUgSZ8FTgG+RdZQrQ+cDrynhPg3A3+MiKUlZKWyGNhJ0via5z4C/LGsFSjj738viwjfOugGrAY8A7y/zjIrkjWOi/LbKcCK+Wu7Aw8BxwOPAg8Dh+evfQ14CXg5X8eRwFeBmTXZGwABjMwffxS4F3gauA84tOb5OTXv2xmYCzyZ/3/nmteuBb4B3JDnXA1MGOTf1r/9PwSOyZ/rAxYCXwaurVn2VOBB4ClgHvCO/PlpA/6dt9Zsx0n5djwPbJw/97H89f8ALqrJ/w7wa0Dt/l74Vv7Nf/k6z07AaGB2nWX+GdgR2AqYAmwPfLHm9bXIGtFJZA3caZLGRcRXyHqT50XEKhFxRr0NkbQy8O/AfhExlqyBu2U5y60OXJYvOx44GbhsQM/tg8DhwBrAKOCEeusGzgI+nN/fF7iNrKGvNZfsM1gdOBu4QNLoiLhywL9zSs17DgOOAsYCDwzIOx7YUtJHJb2D7LP7SOQtoXUXN36dZzywJOrvlh4KfD0iHo2IxWQ9usNqXn85f/3liLicrPezaZPb8wqwhaSVIuLhiLh9OcscAPwpIn4eEUsj4hzgLuBdNcv8Z0T8MSKeB84na7QGFRH/DawuaVOyRvCs5SwzMyIey9f5b2Q94qH+nWdGxO35e14ekPcc2ed4MjATODYiHhoizyrKjV/neQyYIGlknWXW4fW9lgfy517NGNB4Pges0uiGRMSzwMHA0cDDki6TtFmB7enfpkk1jx9pYnt+DkwH9mA5PWFJJ0i6Mz9z/QRZb3fCEJkP1nsxIm4i280XWSNtXcqNX+f5HfAi8N46yywiO3HRb33euEtY1LPAmJrHa9W+GBFXRcQ+wNpkvbkfF9ie/m1a2OQ29fs58Eng8rxX9qp8t/RE4B+BcRHxJrLjjerf9EEy6+7CSjqGrAe5KM+3LuXGr8NExJNkB/ZPk/ReSWMkrSBpP0nfzRc7B/iipImSJuTLD3lZxyBuAXaTtL6k1YDP978gaU1J78mP/b1Itvv8ynIyLgfeml+eM1LSwcBk4NImtwmAiLgP+DuyY5wDjQWWkp0ZHinpy8CqNa//FdigkTO6kt4KfBP4ENnu74mS6u6eW3W58etA+fGrz5KdxFhMtqs2Hfhlvsg3gZuBBcD/APPz55pZ1zXAeXnWPF7fYI3It2MR8DeyhuiflpPxGHAg2QmDx8h6TAdGxJJmtmlA9pyIWF6v9irgSrLLXx4AXuD1u7T9F3A/Jmn+UOvJDzPMBL4TEbdGxJ+ALwA/l7TicP4N1pnkE1lm1ovc8zOznlTvjKKZWWVIup/sIvplwNKImFpveTd+ZtZN9ih6rNm7vWbWkzrqhIdGrhQaNTZJ9tZvWz9JrlkveOCB+1myZImGXrK4vlXfHLH0+cLLx/OLbyc7q99vRkTM6H8g6T7gcbJrOX9U+9rydNRur0aNZcVN/zFJ9g03/SBJrlkv2GWHuofPmhJLn2/o9/2FW057YYjjeLtGxEJJawDXSLorIq4bbGHv9ppZmwg0ovhtCBGxMP//o2TDIbevt7wbPzNrDwFS8Vu9KGllSWP77wPvJJsJaFAdtdtrZj2mvPlk1wRmK2skRwJn51ObDaqSPb+7Lvsac8//Ajee+znmzCp37PnVV13J2zfflM0325jvfffbzk6cnTrf2a3NboxgRF/xWx0RcW9ETMlvm0fESUOtvZKNH8C0o05lx0O+za6HfnfohQtatmwZn/nUMfzqkiv4w4I7uODcc7jzjjucnSg7db6zW5vdlJJ2e5tR2cYvhbm//z1vecvGbLjRRowaNYr3H3wIl17yK2cnyk6d7+zWZjdMlHrCo1GVbPwigktOn84Ns07kiPftUlruokULWXfd9V59PGnSuixcONwp6Zzdrnxntza7cQ30+hL0/JKe8JA0jazITB/wk4go5QDDXod/n0WLn2TiuFW49IfTufv+R7hh/j1lRJtZK7WxgF6yNUvqA04D9iOb2PIDkiaXkb1o8ZMALH78GS7+zQK223yDMmJZZ51JPPTQa1PCLVz4EJMmTarzDmd3cr6zW5vdlC495rc98Of8LMxLwLmUUHd2zOhRrDJmxVfv773TZtx+T7MzuL/e1O22489//hP333cfL730Ehecdy4HHPhuZyfKTp3v7NZmN67ci5wblXK3dxKvn1n3IWCHgQtJOoqslCCsMHRNmzXGj+W8kz8OwMi+Ps674mau+e87S9hcGDlyJN8/9Qe864B9WbZsGR/56BFM3nxzZyfKTp3v7NZmN6z/Iuc2STaxgaSDgGkR8bH88WHADhExfbD3jBizRqQa2/v4XI/tNWvWLjtMZd68m0ttqUaMXSdW3Pqowsu/cP3X5g01R18jUvb8FgLr1Txel+FX8zKzriHoq3/xckopj/nNBTaRtKGkUcAhwMUJ12dmVdLm6/yS9fwiYqmk6WRVtvqAn0bE7anWZ2YV1MZjfkmv84uIy8lqupqZDaC2XufnWV3MrH26tednZlaXe35m1nMSjdwoyo2fmbWPe35m1pPc88ts/bb1k1VZG7fdoANLhs2jR8ya4bO9ZtaLxJDT06fkxs/M2sQ9PzPrVT7mZ2Y9qRtnck4pZek9l8VsbXbqfGe3NrthXTqTcxKtKL3nspityU6d7+zWZjdM7Z3JuXKNX0eV3mtAVcsRunSls5Nyz6+41KX3XBazddmp853d2uxmSCp8K1uyEx6SfgocCDwaEVukWk/ZXBbTrDWyEh7tO9ubsud3JjCt7NDUpfdcFrN12anznd3a7IZJaETxW9mSNX4RcR3wt7JzU5bec1nM1manznd2a7Ob0ZW7vUXVlq5cb/31h1w+Zek9l8VsbXbqfGe3NrsZ7dztTVa6EkDSBsClRY/5bbvt1LjhppuTbIsnNjBrXorSlX2rbxir7Pv1wss/de6HK1O60sxscMpvbeLGz8zaQqQ5lldUshMeks4BfgdsKukhSUemWpeZVVNXnvCIiA+kyjaz7tDOnp93e82sbdz4mVnv8QkPM+tFQowY4ZmczawHlb3bK6kPuBlYGBEH1lu2crO6mFkXUQO3Yj4NFBqW1TM9v5SjMFKOHgGPILEupXJ7fpLWBQ4ATgI+O9TyPdP4mVnnabDxmyCpdvzrjIiYUfP4FOBEYGyRMDd+ZtY2DTZ+SwYb2yupf+7QeZJ2LxLmxs/M2qLk4W27AO+WtD8wGlhV0syI+NBgb/AJDzNrn5JOeETE5yNi3YjYADgE+E29hg8q2vhVtayfy2K2Pt/Zrc1uiNo7trdyjV/Vy/q5LGbr8p3d2uxmpGj8IuLaoa7xgwo2fj1V1q+gKn8mVd12Z5ejK2t4pFLlsn4ui9nafGe3NrsZXTmllaT1gLOANYEguybn1FTrqwKXxTR7TapGraiUPb+lwPERMRnYEThG0uThhla5rJ/LYrY239mtzW5GV57wiIiHI2J+fv9psvF2w/6Uq1rWz2UxW5/v7NZmN6Mrd3tr5VXctgZuWs5rHVO60mUxW5udOt/Zrc1uShvn80tauhJA0irAfwEnRcQv6i2bsnRlSp7YwLpditKVK665SUw6tPhpgPu+f0B1SldKWgG4CJg1VMNnZj2m5FldGpXybK+AM4A7I+LkVOsxs2oS0Ma2L+nZ3l2Aw4A9Jd2S3/ZPuD4zqxQxYkTxW9lSlq6cQ1sPZ5pZp+vK3V4zs7rU3t1eN35m1haCJLuzRbnxM7O2cc/PzHqSj/mZWe/xMT8z60XZdX7u+VVa6uFnKYfPeeictU97p7Ry42dmbePdXjPrPfKlLmbWg9p9zK9yNTygumX9XBaz9fnObm12o6Tit7JVrvGralk/l8Vsfb6zW5vdjK6cxj6Vqpb167SSgUW5dKWzU3LPrwFVLevnspitz3d2a7Mbpi6t4SFpNHAdsGK+ngsj4iup1tfrXBbTqqabJzN9EdgzIqYAWwHTJO043NCqlvVzWczW5zu7tdmNK97rq9Qxv8g8kz9cIb8Nu1pSVcv6uSxm6/Od3drsZrTzmF/qAkZ9wDxgY+C0iHhD6cpGVbWsn8titj7f2a3NblibL3JOXroSQNKbgNnAsRFx24DXauv2bvvHex5Ivj1V47G91m4pSleOXW+z2OozPym8/JwT3lFq6cqWnO2NiCeA3wLTlvPajIiYGhFTJ06Y2IrNMbMO0ZXH/CRNzHt8SFoJ2Ae4K9X6zKx6uvWY39rAz/LjfiOA8yPi0oTrM7OK6coprSJiAbB1qnwzqzjP5GxmvUiezNTMepV7fmbWk0a452dmvaistq+ZuQTc+JlZW0jQV94Ij/65BJ6RtAIwR9IVEXHjYG9w42dmbVPWCY/Ihqo1NJeAG78KSDkEzUPnrJ0abPsmSLq55vGMiJjxWlZjcwkM2vhJ+n/UaTkj4lOFN9nMbACRXe7SgCX1xvZGxDJgq/65BCRtMXAugVr1en4313nNzGzYUkzqEhFPSOqfS6Dxxi8iflb7WNKYiHiuvE00s55W4oQFkiYCL+cNX/9cAt+p954hJzaQtJOkO8gnJZA0RdLpZWywmfW2Eic2WBv4raQFwFzgmqHmEigyq8spwL7AYwARcSuwW4H3JVPVmqZVzYbq1gV2dmuzGyGyi5yL3uqJiAURsXVEvD0itoiIrw+1/kJTWkXEgwOeWlbkfSlUtaZpVbNrVa0usLNbm92MTi9d+aCknYGQtIKkE4By5khvQlVrmlY1O7Wqfi7OLkenT2Z6NHAMMAlYRFaJ7ZjSt6SgqtY0rWp2vyrWBXZ2a7Mb1T/Co+itbENe5BwRS4BDm11BfuHhzcDCiDiw2RxrL9cFthTaOKlLobO9G0m6RNJiSY9K+pWkjRpYx6cpcTe5qjVNq5rdr4p1gZ3d2uxmdPpu79nA+WSnktcBLgDOKRIuaV3gAKB4iaYhVLWmaVWzobp1gZ3d2uxGZWd7i9/KVmRs75iI+HnN45mS/k/B/FOAE4Gxgy0woHTlkIFVrWla1Wyobl1gZ7c2u2GJenSFVz9Y3V5Jq+d3/y/wOHAu2Vjfg4FxEfH5usHSgcD+EfFJSbsDJwx1zG/bbafGDTd5VF0reWIDKyJF3d7xG20e+3/j7MLLz/zQVqXW7a3X85tH1tj1/4M/UfNaAHUbP2AX4N2S9gdGA6tKmhkRH2p2Y82su3RkDY+I2HA4wXnP8PMANT0/N3xmBrx2zK9dCs3nJ2kLYDJZDw6AiDgr1UaZWW/oyJ5fP0lfAXYna/wuB/YD5gCFG7+IuBa4tpkNNLPuJEFfGxu/Ipe6HATsBTwSEYcDU4DVkm6VmfWEdo7tLbLb+3xEvCJpqaRVgUeB9YZ6k5nZUDp6txe4OZ8W+sdkZ4CfAX6XdKvMrCd0dNHyiPhkfveHkq4EVo2IBWk3y8y6nRh6nr6U6hUw2qbeaxExP80mmVlPSHQsr6h6Pb9/q/NaAHuWvC3WBi6Lae3Ukcf8ImKPVm6ImfWeQlPJJ+Ki5WbWFqJDe35mZql1/PA2M7Oy9U9j3y5FZnKWpA9J+nL+eH1J26fftMFVtayfs5fPZTG7J7tR7ZzMtMjxxtOBnYAP5I+fBk4rf1OKqWpZP2fX57KY1c9uRqeXrtwhIo4BXgCIiMeBUeVvSjFVLevn7Nar6udS1exGlVm0vBlFGr+X8wpsASBpIvBK6VtSUFXL+jl7cC6L2R3ZzRjRwK1sRU54/DswG1hD0klks7x8sUi4pPvJdpOXAUvLnILauofLYvauTh3hAUBEzJI0j2xaKwHvjYhGqtfskdf+LUVVy/o5e3DLK4tZRuNX1c+lqtmNUqLd2aKKnO1dH3gOuAS4GHg2f64tqlrWz9nL57KY3ZPdjE6fz+8yXitkNBrYELgbKFLvLoCrJQXwo4iYMXABl67s3WxwWcxuym5GOy9yHrR05aBvyGZ7+WREfKzAspMiYqGkNYBrgGMj4rrBlnfpyu7iiQ26R4rSlZPeumUcffrswst/eZ9NSi1d2fBJlHwqqx0KLrsw//+jZCdN2npxtJl1kAYucE7RQyxSwOizNQ9HANsAQx6UkbQyMCIins7vvxP4erMbambdR7Rvv7fIMb+xNfeXkh0DvKjA+9YEZuezNowEzo6IKxveQjPrSh1dtze/uHlsRJzQaHBE3EtW6c3MbLk6svGTNDIilkoq75J7M7ManTqf3+/Jju/dIuli4ALg2f4XI+IXibfNzLpYR+/25kYDj5HV7Oi/3i8AN35m1rwSL16WtB5wFtm5hgBmRMSp9d5Tr/FbIz/TexuvNXr9Grs40MxsOUoc3rYUOD4i5ksaC8yTdE1EDDpfV73Grw9YBZZ7LtqNn5kNS5m7vRHxMPBwfv9pSXcCk4CmGr+HI8LX5XW5uxY9nSw75SiMDf7pwmTZ9//HQcmyrZboa6znN0FS7RCwGYMMmd0A2Bq4qV5YvcavjYcizazbZdXbGnrLkqGGt0lahew65M9ExFP1lq3X+O3V0GaZmTWi5GFrklYga/hmFbkapV7R8r+Vt1lmZm9U1gkPZRcMngHcGREnF1p3KWs2M2tQ/25vSfP57QIcBuwp6Zb8tn+9N1Sy8atqWb+qZn/1hE+y5zYbcdA+hSbzaVjqUoojBNd8aS9+fmy5g5Wq+vPsrNKV5RQwiog5EaGIeHtEbJXfLq+77lL/JS1Q1bJ+Vc0GeNf7D+W0n6W5pr0VpRQ/vvcm/Onhcs9qV/Xn6dKVr6lc41fVsn5VzQbYdoddWO1N40rLq5V629cetxJ7b7k2s+bcV1omVPfn2XGlKxu4la1yjV9Vy/pVNTu11Nv+jYOn8I0LFxAlF1ut6s+zo74ryiY2KHorW9LGT9KbJF0o6S5Jd0raKeX6zGrt8/a1WfLUiyz4yxPt3hQbhBq4la3IxAbDcSpwZUQcJGkUMGa4gVUt61fV7NRSbvt2bxnPO7dam722XIsVV+hjldEj+cGR2zH9jLnDzq7qz7OTviuCRkd4lCpZz0/SasBuZNfeEBEvRcSw/wRXtaxfVbNTS7nt35p9G9uceDnbff4Kjp5xEzfcvbiUhg+q+/PstO9Kp5eubNaGwGLgPyVNAeYBn46IZ2sXcunKzs4G+NyxhzPvd3N44vHH2HeHzTj6uC/w94d8uJTsTiulWFRVf56d9XmnOZZXeO2Nlq4sHCxNBW4EdomImySdCjwVEV8a7D0uXdl6KSc22GydsUMv1CRPbNBaKUpXvmXylPjWrLqX4r3OIdus297SlQ14CHgoIvpnVriQbGZoMzOgS8/2RsQjwIOSNs2f2os6c2uZWe/p5rO9xwKz8jO99wKHJ16fmVWFOreA0bBFxC1AafvoZtY9+kd4tEvqnp+Z2aC6tudnZlZPp5euNDMrXbbb656fmfWgNu71uvEzs3YRcs/P2iXlKIyUUo7CGLfd9GTZkLakZ9W452dmPcfH/MysNyWaraUoN35m1jZu/MysJ7XzhEflanhAdcv6Obv1+Smz77rsa8w9/wvceO7nmDPrxFKzq/qZNEJkFzkXvZWtco1fVcv6Obv1+a0o0zjtqFPZ8ZBvs+uh3y0ts+qfSSPKqtvb1LpLT0ysqmX9nN36/E4q09iIXvpM1MB/Zatc41fVsn7Obn1+6m2PCC45fTo3zDqRI963S2m5Vf5MGtHu3d5kJzzySUzPq3lqI+DLEXFKqnWatdJeh3+fRYufZOK4Vbj0h9O5+/5HuGH+Pe3erApp7wiPlDM53x0RW0XEVsC2wHPA7OHmVrWsn7Nbn5962xctfhKAxY8/w8W/WcB2m29QSm6VP5OGNFC5LcUlMa3a7d0LuCciHhhuUFXL+jm79fkps8eMHsUqY1Z89f7eO23G7fcsKiW7qp9JM7p5Gvt+hwDnLO8Fl67s3ezU+Smz1xg/lvNO/ni2nr4+zrviZq757ztLya7qZ9Ko7JhfF5aufHUFWf2ORcDmEfHXesu6dKV1Ak9s8EYpSle+bcut4z9n/7bw8jttMq7U0pWt6PntB8wfquEzsx7U5cPbPsAgu7xm1tvaudub9ISHpJWBfYBfpFyPmVVT157wiIhngfEp12FmFdblu71mZm+Q9eg8mamZ9RpPZmpmvaqNbV/1JjYwsy5S4hkPST+V9Kik24qs2o2fmbVJIxNaFeojnglMK7p27/aaWduUecwvIq6TtEHR5d34mQ2QevhZyuFzVRo618T1exMk1Y5/nRERM5pdvxs/M2sbNdb1W1K1sb1mZsvlS13MrCf5UpcGVbWsn7Nbn1/V7KqWxWxII5e5FLvU5Rzgd8Cmkh6SdGS95SvX8+svvXfZFdcwad112XXH7TjwwHfztsmTnV2x7NT5Vc3uN+2oU3nsiWdLy4PWbHcjyhzeFhEfaGT5yvX8qlrWz9mtz69qdkqdtN2iN2p4lKaqZf2c3fr8qmZDNctiNqNrp7SSdBzwMSCA/wEOj4gXUq7TrBv0TFnMNp7xSNbzkzQJ+BQwNSK2APrIChkNS1XL+jm79flVzYZqlsVsRsnD2xqSerd3JLCSpJHAGLJCRsNS1bJ+zm59flWzq1oWsxkjVPxWtmS7vRGxUNK/An8BngeujoirBy7n0pW9m506v6rZVS2L2ZQ27vYmK10paRxwEXAw8ARwAXBhRMwc7D0uXWm9oIpje1OUrtxyyjbxi6tvKLz8W9caU2rpypS7vXsD90XE4oh4mayI0c4J12dmVdLAZS5Vu9TlL8COksYoG728F1BO393MukJXXuoSETdJuhCYDywF/gA0Pf2MmXWhbp3YICK+Anwl5TrMrKrSXMJSVOXG9ppZ9/CUVmbWc1IdyyvKjZ+ZtY97fmbWi0a0cb/XjZ+ZtY13e82s9yS6eLkoN35mLZayvGSqoXMv3v2XJLnt7Pu58TOztuifybld3PiZWdv4mJ+Z9aR29vwqV8MDqluO0Nmtz3f2G6Usi9mobp7JuXT9pfd+dckV/GHBHVxw7jnceccdzq5gdup8Zw9u2lGnsuMh32bXQ79bam7D2jitS+Uav6qWI3R26/Od3fnaOaVV5Rq/qpYjdHbr8529fKnKYjZKykZ4FL2VLXXpyk8DHydruH8cEaekXJ+ZDa2jymJ24wkPSVuQNXzbA1OAAyVtPNzcqpYjdHbr8529fKnKYjajW3d73wbcFBHPRcRS4L+A9w03tKrlCJ3d+nxnv1HKspjNaGcNj5S7vbcBJ0kaT1a6cn9g2KXZqlqO0Nmtz3f2G6Usi9m49s7knKx0JYCkI4FPAs8CtwMvRsRnBixTW7d32z/e80Cy7THrdunG9p7PK889WmpLtfU2U+M3c24qvPzqK4+sTOlKIuKMiNg2InYDHgf+uJxlZkTE1IiYOnHCxJSbY2b2qtRne9eIiEclrU92vG/HlOszs2rp5okNLsqP+b0MHBMRTyRen5lVSNdWb4uId6TMN7Pqyi5ybt/6PauLmbWPGz8z60Vdu9trZlaP5/Mzs55U5vA2SdMk3S3pz5I+N9TybvzMrH1Kav0k9QGnAfsBk4EPSJpc7z1u/MysbUqcyXl74M8RcW9EvAScC7yn3hs66pjf/Pnzlqy0goqOb5sALEm0KSmzU+c7u3uyU+c3kv3mslf+h/nzrhozShMaeMtoSbXzA8yIiBn5/UnAgzWvPQTsUC+soxq/iCg8vk3SzWWO82tVdup8Z3dPdur81Ns+lIiY1q51g3d7zaw7LATWq3m8bv7coNz4mVk3mAtsImlDSaOAQ4CL672ho3Z7GzRj6EU6Mjt1vrO7Jzt1fuptb5mIWCppOnAV0Af8NCJur/eepPP5mZl1Ku/2mllPcuNnZj3JjZ8VIrVzFGZzJK2cMHutKn4m9ppKNX6SNpW0k6QV8uEsZeeXnpnnbixpqqQVE2RvLunv8kljy87eVdJhABERZf+yS3pXXtu5dJLeA3xH0hoJsvcFZvP6SyvKyt5R0mH5/0eVnL1J/j0ckeq7XikRUYkb2TT4dwG/Bs4CPgWsWlL2W2vu95W83QcCC4DfAufUrquE7P3y7F8ClwFrlZQ7AliFrOjUHcDRta+VtI53ArcA+yT4rvxd/l1Jkd2/3fcDp5ac/e785/kz4EJgkxKz3wvcClwEnEJWWGzlsj+fKt3avgEFf3ArAOcBu+SP/wH4HnDScBvAvHF6Dji75rlSGkBgZ+BOYOv88elkp+DLyN6drCDU9vnj2cDeJX/uJwLH539sjisxd2fgrzXbvhrZ8KkxJeV/Fjghv78OsA/ZUKfVhpm7N/BnYPP8O3k1sFtJ2zye7DKNLfLHPwXeD6wBjC4h+wpgcv74CLLr4r4EjC3zO1OlW5V2e1cFNsnvzwYuJfsCfrDZ3bH8mNB04DPAS5JmAkTEshJ3C74TEX/I738FWL2k3d+/Ap+IiN9LWovsl3u6pB9JOqikXdSlZLt2PwO2l3SypH9RZjjfncfI6rqsne+u/xL4D+DMkrZ9ac39C8l+2acDp0kaN4zcPuDDkV0/tjJwN1lDWMYx0aXASsBmklYl++P2YbJe2heHefxyKVlPfi2AiPgpWc91Atkf/97U7ta3gb9e+5Bdsf2O/HEf8EFgJvn1ik3mrkP2xZhA9osys8Rt7iPvmeb31wX+AEzMnxtf0nr+Gfhifv+jZDNaTCwh98WeoswAAAXKSURBVC3A5/L7x5P1kE8raZunAPeSDUD/ONmu9hFkhwZWH2b2lmQN07nA4flzGwE/BPYtYdtH5P+fBjwCbFnSZ3IQMA+4EfhS/tyewJnAlGFmH53/rhxGtsc0E/gEcEYZ217FW5V6fteT7WYcJmm3iFgWEWeTNV5Tmg2NiEUR8UxELCH7MqzU3wOUtI2kzYaRvSwinsofCngC+FtELJZ0KPBNSSs1m1+znpMi4pv5/TPJesllHIx/HthU0sfJfnm+Dawv6RPDDY6IW8l6Hd+OiB9HxCuR9UjGAesPM/t/gBPIesMb5s/dS/YHaNjFoSPilfz/V5KNkjiwhN4wEXEh2a719WR/JImI3wBjGf6sKueQ7fruAawUER+KiB8Ba+Y9zZ5TmeFtEfGCpFlAAJ/PG6UXgTWBh0tax2P5L/b3JN1F9suyR0nZS4FnJD0o6V/IDpx/NCKeH06uJEX+pz1//A9kn8miYW0w2R8GSQ+SHRs6JiIukbQH2XGvYYuIO8hOqACvbvtEyvl5XkF2mOGr0qvTpG1N1oCX6VbgOOC7EbFsuGER8bik3wD/KOklYDRZA75gmLlPArMkndPfeEv6MLA6MOztrqR2dz0bvQGjyBqkc8l2B7ZOsI7jKHF3Js9Uvu33AH+hxDN5ef6KwJFkZ2i3KDF3PWDbmselnO1dzmdzBFlDuHnJ2dsA3wL+rcyf54B1nA9sUGLem8iuZvgvspMgw9rlHWQd/Z93ks+kCrfKju3NT0hE5H/FSswdR/ZlPj4ihvXXdpD8jwJzY4hB103krkB2XPSeiLi7zOw8/3U9zLKzyS5PeSQi7kqxjhRSfiZ5/liy49lPDblw49lvBlaIiFJ68VVU2cYvJUmjI+KFRNlJf2HMrBg3fmbWk6p0ttfMrDRu/MysJ7nxM7Oe5MbPzHqSG78uIWmZpFsk3SbpAkljhpF1pqSD8vs/UZ3K95J2l7RzE+u4X3pjzdbBnh+wzDMNruurkk5odButu7nx6x7PR8RWEbEF8BLZcLRXSWpqNE9EfCyykRiD2Z1slhazSnHj152uBzbOe2XXS7oYuENSn6TvSZoraUH/GN18XOoPJN0t6f+TTaNE/tq1kqbm96dJmi/pVkm/lrQBWSN7XN7rfIekiZIuytcxV9Iu+XvHS7pa0u2SfkI2qqMuSb+UNC9/z1EDXvt+/vyvJU3Mn3uLpCvz91w/nHHZ1v0qM7bXisl7ePsBV+ZPbUM23O2+vAF5MiK2Uzat1g2SriYb87opMJlsXPAdZPPJ1eZOBH5MNn/dfZJWj4i/Sfoh8ExE/Gu+3NnA9yNijqT1yYZnvY1snO2ciPi6pAPIhuIN5Yh8HSsBcyVdFBGPkU0ndXNEHCfpy3n2dLJJBo6OiD9J2oFs/sQ9m/gYrQe48eseK0m6Jb9/PXAG2e7o7yPivvz5dwJv7z+eRzaJ6CbAbsA5kQ3MX5QPrB9oR+C6/qyI+Nsg27E3MFmvTW+3qqRV8nW8L3/vZZIeL/Bv+pSkv8/vr5dv62PAK2ST20I2NdMv8nXsDFxQs+7SywZY93Dj1z2ej4itap/IG4Fna58Cjo2IqwYst3+J2zEC2HHg8EA1ONenpN3JGtKdIuI5SdeSzXCyPJGv94mBn4HZYHzMr7dcBfxTPgkCkt6qbIbg64CD82OCa7P8abxuBHaTtGH+3tXz558mm2+u39XAsf0PJPU3RteRTT6LpP3I5u2rZzXg8bzh24ys59lvBNnEn+SZc/LB//dJen++Dklqep5H635u/HrLT8iO582XdBvwI7Le/2zgT/lrZwG/G/jGiFgMHEW2i3krr+12XgL8ff8JD7KpmKbmJ1Tu4LWzzl8jazxvJ9v9/csQ23olMFLSnWRz8N1Y89qzZNPq30Z2TO/r+fOHAkfm23c78J4Cn4n1KE9sYGY9yT0/M+tJbvzMrCe58TOznuTGz8x6khs/M+tJbvzMrCe58TOznvS/bSl7H+lkytwAAAAASUVORK5CYII=\n",
            "text/plain": [
              "<Figure size 432x288 with 2 Axes>"
            ]
          },
          "metadata": {
            "needs_background": "light"
          }
        }
      ]
    }
  ]
}
