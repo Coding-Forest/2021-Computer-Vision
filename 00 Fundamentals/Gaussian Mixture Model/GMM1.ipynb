{
  "nbformat": 4,
  "nbformat_minor": 0,
  "metadata": {
    "colab": {
      "name": "Gaussian Mixture Model.ipynb",
      "provenance": [],
      "collapsed_sections": []
    },
    "kernelspec": {
      "name": "python3",
      "display_name": "Python 3"
    },
    "language_info": {
      "name": "python"
    }
  },
  "cells": [
    {
      "cell_type": "markdown",
      "metadata": {
        "id": "yYL8sij4CcS_"
      },
      "source": [
        "# Gaussian Mixture Model\n",
        "Not a model per se, but rather a probability distribution.\n",
        "- a probabilistic model that assumes all the data points are generated from a mixture of a finite number of Gaussian distributions with unknown parameters.\n",
        "\n",
        "**Source Code Referencse**\n",
        "- Chelsea Pelleriti (2020) CPSC 392 || Lecture 17 Pt. II EM/Gaussian Mixture Models in Python https://www.youtube.com/watch?v=WsGNJYCxwNM&ab_channel=ChelseaPelleriti"
      ]
    },
    {
      "cell_type": "code",
      "metadata": {
        "colab": {
          "base_uri": "https://localhost:8080/",
          "height": 17
        },
        "id": "1esk5ViPCi3B",
        "outputId": "afe65d6d-91f9-4708-b8d0-68d9cacd40cb"
      },
      "source": [
        "import pandas as pd\n",
        "import numpy as np\n",
        "from plotnine import *\n",
        "import warnings\n",
        "warnings.filterwarnings(action=\"ignore\")\n",
        "\n",
        "# Z-score variables\n",
        "from sklearn.preprocessing import StandardScaler\n",
        "\n",
        "from sklearn.cluster import KMeans\n",
        "from sklearn.mixture import GaussianMixture\n",
        "\n",
        "from sklearn.metrics import silhouette_score"
      ],
      "execution_count": 24,
      "outputs": [
        {
          "output_type": "display_data",
          "data": {
            "text/html": [
              "<style> pre { white-space: pre-wrap; }</style>"
            ],
            "text/plain": [
              "<IPython.core.display.HTML object>"
            ]
          },
          "metadata": {}
        }
      ]
    },
    {
      "cell_type": "code",
      "metadata": {
        "id": "BZrsndvcDDuD",
        "colab": {
          "base_uri": "https://localhost:8080/",
          "height": 239
        },
        "outputId": "03ee4ee4-7b76-4ccc-b0b0-0f56a897ea4a"
      },
      "source": [
        "bk = pd.read_csv(\"burger-king-items.txt\", sep=\"\\t\")\n",
        "bk.head()"
      ],
      "execution_count": 25,
      "outputs": [
        {
          "output_type": "display_data",
          "data": {
            "text/html": [
              "<style> pre { white-space: pre-wrap; }</style>"
            ],
            "text/plain": [
              "<IPython.core.display.HTML object>"
            ]
          },
          "metadata": {}
        },
        {
          "output_type": "execute_result",
          "data": {
            "text/html": [
              "<div>\n",
              "<style scoped>\n",
              "    .dataframe tbody tr th:only-of-type {\n",
              "        vertical-align: middle;\n",
              "    }\n",
              "\n",
              "    .dataframe tbody tr th {\n",
              "        vertical-align: top;\n",
              "    }\n",
              "\n",
              "    .dataframe thead th {\n",
              "        text-align: right;\n",
              "    }\n",
              "</style>\n",
              "<table border=\"1\" class=\"dataframe\">\n",
              "  <thead>\n",
              "    <tr style=\"text-align: right;\">\n",
              "      <th></th>\n",
              "      <th>Item</th>\n",
              "      <th>Serving.size</th>\n",
              "      <th>Calories</th>\n",
              "      <th>Fat.Cal</th>\n",
              "      <th>Protein(g)</th>\n",
              "      <th>Fat(g)</th>\n",
              "      <th>Sat.Fat(g)</th>\n",
              "      <th>Trans.fat(g)</th>\n",
              "      <th>Chol(mg)</th>\n",
              "      <th>Sodium(mg)</th>\n",
              "      <th>Carbs(g)</th>\n",
              "      <th>Fiber(g)</th>\n",
              "      <th>Sugar(g)</th>\n",
              "      <th>Meat</th>\n",
              "      <th>Breakfast</th>\n",
              "      <th>Not Breakfast</th>\n",
              "      <th>CarbsxMeat</th>\n",
              "    </tr>\n",
              "  </thead>\n",
              "  <tbody>\n",
              "    <tr>\n",
              "      <th>0</th>\n",
              "      <td>Hamburger</td>\n",
              "      <td>109.0</td>\n",
              "      <td>260</td>\n",
              "      <td>90.0</td>\n",
              "      <td>13</td>\n",
              "      <td>10.0</td>\n",
              "      <td>4.0</td>\n",
              "      <td>0.0</td>\n",
              "      <td>35</td>\n",
              "      <td>490</td>\n",
              "      <td>28</td>\n",
              "      <td>1.0</td>\n",
              "      <td>6</td>\n",
              "      <td>1</td>\n",
              "      <td>0</td>\n",
              "      <td>1</td>\n",
              "      <td>28</td>\n",
              "    </tr>\n",
              "    <tr>\n",
              "      <th>1</th>\n",
              "      <td>Cheeseburger</td>\n",
              "      <td>121.0</td>\n",
              "      <td>300</td>\n",
              "      <td>130.0</td>\n",
              "      <td>16</td>\n",
              "      <td>14.0</td>\n",
              "      <td>6.0</td>\n",
              "      <td>0.0</td>\n",
              "      <td>45</td>\n",
              "      <td>710</td>\n",
              "      <td>28</td>\n",
              "      <td>1.0</td>\n",
              "      <td>6</td>\n",
              "      <td>1</td>\n",
              "      <td>0</td>\n",
              "      <td>1</td>\n",
              "      <td>28</td>\n",
              "    </tr>\n",
              "    <tr>\n",
              "      <th>2</th>\n",
              "      <td>Double_Hamburger</td>\n",
              "      <td>146.0</td>\n",
              "      <td>360</td>\n",
              "      <td>160.0</td>\n",
              "      <td>22</td>\n",
              "      <td>18.0</td>\n",
              "      <td>8.0</td>\n",
              "      <td>0.0</td>\n",
              "      <td>70</td>\n",
              "      <td>520</td>\n",
              "      <td>28</td>\n",
              "      <td>1.0</td>\n",
              "      <td>6</td>\n",
              "      <td>1</td>\n",
              "      <td>0</td>\n",
              "      <td>1</td>\n",
              "      <td>28</td>\n",
              "    </tr>\n",
              "    <tr>\n",
              "      <th>3</th>\n",
              "      <td>Double_Cheeseburger</td>\n",
              "      <td>171.0</td>\n",
              "      <td>450</td>\n",
              "      <td>230.0</td>\n",
              "      <td>26</td>\n",
              "      <td>26.0</td>\n",
              "      <td>12.0</td>\n",
              "      <td>1.0</td>\n",
              "      <td>95</td>\n",
              "      <td>960</td>\n",
              "      <td>29</td>\n",
              "      <td>1.0</td>\n",
              "      <td>6</td>\n",
              "      <td>1</td>\n",
              "      <td>0</td>\n",
              "      <td>1</td>\n",
              "      <td>29</td>\n",
              "    </tr>\n",
              "    <tr>\n",
              "      <th>4</th>\n",
              "      <td>Buck_Double</td>\n",
              "      <td>158.0</td>\n",
              "      <td>410</td>\n",
              "      <td>200.0</td>\n",
              "      <td>24</td>\n",
              "      <td>22.0</td>\n",
              "      <td>10.0</td>\n",
              "      <td>0.5</td>\n",
              "      <td>85</td>\n",
              "      <td>740</td>\n",
              "      <td>28</td>\n",
              "      <td>1.0</td>\n",
              "      <td>6</td>\n",
              "      <td>1</td>\n",
              "      <td>0</td>\n",
              "      <td>1</td>\n",
              "      <td>28</td>\n",
              "    </tr>\n",
              "  </tbody>\n",
              "</table>\n",
              "</div>"
            ],
            "text/plain": [
              "                  Item  Serving.size  ...  Not Breakfast  CarbsxMeat\n",
              "0            Hamburger         109.0  ...              1          28\n",
              "1         Cheeseburger         121.0  ...              1          28\n",
              "2     Double_Hamburger         146.0  ...              1          28\n",
              "3  Double_Cheeseburger         171.0  ...              1          29\n",
              "4          Buck_Double         158.0  ...              1          28\n",
              "\n",
              "[5 rows x 17 columns]"
            ]
          },
          "metadata": {},
          "execution_count": 25
        }
      ]
    },
    {
      "cell_type": "code",
      "metadata": {
        "colab": {
          "base_uri": "https://localhost:8080/",
          "height": 84
        },
        "id": "uJiniI_OCyJS",
        "outputId": "64d461e3-10cd-4642-b072-29b56413cdc9"
      },
      "source": [
        "features = [\"Calories\", \"Sodium(mg)\"]\n",
        "\n",
        "X = bk[features]\n",
        "z = StandardScaler()\n",
        "X[features] = z.fit_transform(X)\n",
        "\n",
        "EM = GaussianMixture(n_components=3)\n",
        "EM.fit(X)"
      ],
      "execution_count": 26,
      "outputs": [
        {
          "output_type": "display_data",
          "data": {
            "text/html": [
              "<style> pre { white-space: pre-wrap; }</style>"
            ],
            "text/plain": [
              "<IPython.core.display.HTML object>"
            ]
          },
          "metadata": {}
        },
        {
          "output_type": "execute_result",
          "data": {
            "text/plain": [
              "GaussianMixture(covariance_type='full', init_params='kmeans', max_iter=100,\n",
              "                means_init=None, n_components=3, n_init=1, precisions_init=None,\n",
              "                random_state=None, reg_covar=1e-06, tol=0.001, verbose=0,\n",
              "                verbose_interval=10, warm_start=False, weights_init=None)"
            ]
          },
          "metadata": {},
          "execution_count": 26
        }
      ]
    },
    {
      "cell_type": "code",
      "metadata": {
        "colab": {
          "base_uri": "https://localhost:8080/",
          "height": 117
        },
        "id": "u_SsP-CoZw1O",
        "outputId": "f3e4a328-67af-4892-a5f0-b6f7fafb600a"
      },
      "source": [
        "# Hard assignment (labels of clusters to which each data point belongs to.)\n",
        "# There are 3 components (0, 1, 2) as was previously set in the GM model initialisation above.\n",
        "cluster = EM.predict(X)\n",
        "cluster"
      ],
      "execution_count": 27,
      "outputs": [
        {
          "output_type": "display_data",
          "data": {
            "text/html": [
              "<style> pre { white-space: pre-wrap; }</style>"
            ],
            "text/plain": [
              "<IPython.core.display.HTML object>"
            ]
          },
          "metadata": {}
        },
        {
          "output_type": "execute_result",
          "data": {
            "text/plain": [
              "array([1, 0, 1, 0, 0, 0, 0, 0, 2, 2, 2, 2, 2, 2, 2, 2, 2, 2, 2, 0, 0, 2,\n",
              "       2, 2, 0, 2, 2, 0, 0, 0, 1, 1, 1, 0, 1, 1, 0, 0, 0, 0, 0, 2, 2, 0,\n",
              "       0, 0, 0, 1, 1, 1, 1, 1, 1, 1, 1, 1, 1, 0, 0, 0, 1, 1, 0, 0, 0, 2,\n",
              "       2, 0, 2, 0, 0, 0, 0, 0, 2, 0, 2, 0, 0, 2, 0, 0, 0, 0, 0, 1, 2, 1,\n",
              "       1, 1, 0, 2, 0, 1, 1, 1, 1, 2, 2, 2, 2, 0, 2, 2, 0, 0, 0, 1, 1, 1,\n",
              "       1, 1, 1, 1, 1, 1, 1, 1, 1, 1, 1, 1])"
            ]
          },
          "metadata": {},
          "execution_count": 27
        }
      ]
    },
    {
      "cell_type": "code",
      "metadata": {
        "colab": {
          "base_uri": "https://localhost:8080/",
          "height": 1000
        },
        "id": "tKZLYCFyZ3av",
        "outputId": "79c327d5-c8e8-4dd7-aaca-423b06801b42"
      },
      "source": [
        "# Soft assignment (gives probabilities)\n",
        "cluster_p = EM.predict_proba(X)\n",
        "cluster_p"
      ],
      "execution_count": 28,
      "outputs": [
        {
          "output_type": "display_data",
          "data": {
            "text/html": [
              "<style> pre { white-space: pre-wrap; }</style>"
            ],
            "text/plain": [
              "<IPython.core.display.HTML object>"
            ]
          },
          "metadata": {}
        },
        {
          "output_type": "execute_result",
          "data": {
            "text/plain": [
              "array([[3.97538607e-01, 5.95331255e-01, 7.13013825e-03],\n",
              "       [9.46507973e-01, 3.02126633e-02, 2.32793634e-02],\n",
              "       [2.80131203e-01, 7.10765877e-01, 9.10291990e-03],\n",
              "       [9.10765045e-01, 2.22980121e-03, 8.70051542e-02],\n",
              "       [7.98766536e-01, 1.57325779e-01, 4.39076849e-02],\n",
              "       [5.71727640e-01, 4.13176953e-01, 1.50954070e-02],\n",
              "       [9.67313775e-01, 4.10616191e-03, 2.85800629e-02],\n",
              "       [7.68702035e-01, 4.17842920e-05, 2.31256181e-01],\n",
              "       [3.75534858e-01, 1.27280128e-02, 6.11737129e-01],\n",
              "       [5.42250069e-04, 1.14189658e-05, 9.99446331e-01],\n",
              "       [1.74916883e-08, 1.80139264e-09, 9.99999981e-01],\n",
              "       [1.99899137e-25, 8.70202252e-08, 9.99999913e-01],\n",
              "       [1.88998264e-03, 1.19457458e-01, 8.78652559e-01],\n",
              "       [8.94577124e-04, 2.67653701e-03, 9.96428886e-01],\n",
              "       [1.12095737e-11, 1.97493989e-03, 9.98025060e-01],\n",
              "       [1.64682094e-12, 5.00633940e-04, 9.99499366e-01],\n",
              "       [8.11476071e-24, 2.53866688e-07, 9.99999746e-01],\n",
              "       [6.53431189e-08, 9.42410187e-11, 9.99999935e-01],\n",
              "       [9.59559140e-04, 2.09336223e-03, 9.96947079e-01],\n",
              "       [8.79920695e-01, 4.18598344e-05, 1.20037445e-01],\n",
              "       [9.51755705e-01, 1.26971247e-05, 4.82315975e-02],\n",
              "       [5.88035118e-05, 2.48818410e-09, 9.99941194e-01],\n",
              "       [3.22970075e-01, 3.94834859e-09, 6.77029921e-01],\n",
              "       [1.05547094e-01, 4.53251602e-07, 8.94452453e-01],\n",
              "       [9.07100372e-01, 3.54739416e-08, 9.28995923e-02],\n",
              "       [4.48355875e-03, 2.72270131e-15, 9.95516441e-01],\n",
              "       [1.59922414e-02, 3.77777106e-10, 9.84007758e-01],\n",
              "       [5.02745053e-01, 6.78716889e-17, 4.97254947e-01],\n",
              "       [7.46166490e-01, 1.48371763e-01, 1.05461747e-01],\n",
              "       [9.05431522e-01, 7.42100158e-02, 2.03584623e-02],\n",
              "       [6.62205112e-02, 9.32222367e-01, 1.55712188e-03],\n",
              "       [1.52508536e-01, 8.44868815e-01, 2.62264896e-03],\n",
              "       [2.96888255e-01, 6.98085291e-01, 5.02645423e-03],\n",
              "       [5.68997022e-01, 4.14269962e-01, 1.67330166e-02],\n",
              "       [2.05720182e-01, 7.64321763e-01, 2.99580542e-02],\n",
              "       [7.35331349e-02, 9.23887224e-01, 2.57964125e-03],\n",
              "       [9.54588399e-01, 2.05523489e-02, 2.48592524e-02],\n",
              "       [9.51755705e-01, 1.26971247e-05, 4.82315975e-02],\n",
              "       [9.41043824e-01, 4.80489943e-04, 5.84756858e-02],\n",
              "       [8.99751922e-01, 3.04584035e-09, 1.00248075e-01],\n",
              "       [5.75170647e-01, 2.30505201e-16, 4.24829353e-01],\n",
              "       [1.07519438e-04, 1.65577545e-15, 9.99892481e-01],\n",
              "       [9.62749812e-02, 1.68817996e-10, 9.03725019e-01],\n",
              "       [8.49381726e-01, 1.44043896e-09, 1.50618273e-01],\n",
              "       [9.42240254e-01, 4.15694526e-05, 5.77181764e-02],\n",
              "       [8.80933173e-01, 2.56918102e-08, 1.19066802e-01],\n",
              "       [9.51536755e-01, 2.14077021e-05, 4.84418368e-02],\n",
              "       [7.49976917e-04, 9.99062355e-01, 1.87668262e-04],\n",
              "       [1.74008502e-03, 9.98054866e-01, 2.05049050e-04],\n",
              "       [2.73447354e-02, 9.71857559e-01, 7.97705336e-04],\n",
              "       [3.20910118e-01, 6.72875286e-01, 6.21459659e-03],\n",
              "       [4.52946282e-01, 5.22701044e-01, 2.43526734e-02],\n",
              "       [3.79023817e-01, 4.79835987e-01, 1.41140196e-01],\n",
              "       [1.07671161e-01, 8.90484145e-01, 1.84469385e-03],\n",
              "       [3.62128367e-01, 6.28923759e-01, 8.94787424e-03],\n",
              "       [3.68951984e-01, 5.86551134e-01, 4.44968818e-02],\n",
              "       [1.87548521e-01, 4.82629455e-01, 3.29822024e-01],\n",
              "       [8.94719572e-01, 8.47074643e-02, 2.05729640e-02],\n",
              "       [8.43095895e-01, 4.96521708e-06, 1.56899140e-01],\n",
              "       [9.38939215e-01, 1.33567281e-05, 6.10474285e-02],\n",
              "       [3.16805340e-03, 9.96505087e-01, 3.26859631e-04],\n",
              "       [1.22174908e-03, 9.98542666e-01, 2.35584798e-04],\n",
              "       [5.30778519e-01, 1.19274328e-02, 4.57294048e-01],\n",
              "       [9.41179154e-01, 1.00006458e-02, 4.88202005e-02],\n",
              "       [6.60397552e-01, 3.24172864e-01, 1.54295840e-02],\n",
              "       [5.99409751e-23, 1.45280456e-20, 1.00000000e+00],\n",
              "       [6.77924527e-05, 1.91552569e-12, 9.99932208e-01],\n",
              "       [8.39223631e-01, 5.13183747e-08, 1.60776317e-01],\n",
              "       [1.17832836e-03, 8.13145078e-15, 9.98821672e-01],\n",
              "       [9.30076675e-01, 4.80954589e-02, 2.18278657e-02],\n",
              "       [9.33941952e-01, 3.25967093e-02, 3.34613385e-02],\n",
              "       [8.97472193e-01, 9.27504046e-04, 1.01600303e-01],\n",
              "       [9.12638688e-01, 6.02449465e-08, 8.73612516e-02],\n",
              "       [9.67181434e-01, 2.21594436e-03, 3.06026221e-02],\n",
              "       [2.06343189e-02, 8.18852900e-09, 9.79365673e-01],\n",
              "       [9.09803539e-01, 5.63600571e-08, 9.01964048e-02],\n",
              "       [2.42061893e-01, 2.15012744e-23, 7.57938107e-01],\n",
              "       [5.72870858e-01, 3.74315681e-08, 4.27129105e-01],\n",
              "       [7.34982794e-01, 1.46924639e-14, 2.65017206e-01],\n",
              "       [4.55063109e-01, 4.71982062e-15, 5.44936891e-01],\n",
              "       [9.50345453e-01, 1.84185373e-05, 4.96361289e-02],\n",
              "       [9.31001399e-01, 6.33442916e-06, 6.89922664e-02],\n",
              "       [7.64259101e-01, 9.04301980e-14, 2.35740899e-01],\n",
              "       [5.29864043e-01, 7.62064240e-12, 4.70135957e-01],\n",
              "       [8.41601151e-01, 1.72125477e-11, 1.58398849e-01],\n",
              "       [1.35758690e-01, 7.69263557e-01, 9.49777531e-02],\n",
              "       [2.47868797e-03, 7.96156313e-02, 9.17905681e-01],\n",
              "       [6.03909854e-02, 9.37633424e-01, 1.97559106e-03],\n",
              "       [9.23094626e-03, 9.89815019e-01, 9.54034717e-04],\n",
              "       [1.99625017e-01, 7.97075035e-01, 3.29994785e-03],\n",
              "       [4.41045076e-01, 3.61856740e-01, 1.97098184e-01],\n",
              "       [4.30847714e-03, 2.35522917e-02, 9.72139231e-01],\n",
              "       [9.49333780e-01, 1.21486229e-02, 3.85175974e-02],\n",
              "       [8.91262168e-02, 9.00450413e-01, 1.04233700e-02],\n",
              "       [7.47449560e-02, 9.24108599e-01, 1.14644476e-03],\n",
              "       [1.25738139e-01, 8.66900026e-01, 7.36183442e-03],\n",
              "       [1.66473087e-02, 8.54329552e-01, 1.29023140e-01],\n",
              "       [1.89944604e-04, 3.82096022e-01, 6.17714034e-01],\n",
              "       [4.07617050e-02, 8.22361043e-03, 9.51014685e-01],\n",
              "       [6.43179268e-04, 1.07781837e-03, 9.98279002e-01],\n",
              "       [5.80993315e-03, 7.48025932e-36, 9.94190067e-01],\n",
              "       [8.58018845e-01, 4.94074483e-11, 1.41981155e-01],\n",
              "       [7.09038740e-02, 4.78334818e-16, 9.29096126e-01],\n",
              "       [6.97631038e-02, 5.28533260e-31, 9.30236896e-01],\n",
              "       [9.14700721e-01, 4.70562247e-06, 8.52945738e-02],\n",
              "       [9.61239316e-01, 1.84645029e-04, 3.85760386e-02],\n",
              "       [9.53166906e-01, 7.33809433e-05, 4.67597129e-02],\n",
              "       [5.48857494e-02, 9.13666023e-01, 3.14482279e-02],\n",
              "       [8.43223653e-02, 9.03660697e-01, 1.20169379e-02],\n",
              "       [1.12588323e-01, 8.84330566e-01, 3.08111084e-03],\n",
              "       [1.13241209e-01, 8.83865864e-01, 2.89292703e-03],\n",
              "       [1.13241209e-01, 8.83865864e-01, 2.89292703e-03],\n",
              "       [3.70288478e-02, 9.62337300e-01, 6.33851850e-04],\n",
              "       [1.06906656e-01, 8.90664284e-01, 2.42905940e-03],\n",
              "       [1.04341227e-01, 8.93422442e-01, 2.23633065e-03],\n",
              "       [1.14828781e-01, 8.80888122e-01, 4.28309703e-03],\n",
              "       [1.09649942e-01, 8.87498831e-01, 2.85122705e-03],\n",
              "       [5.59363162e-03, 9.94023840e-01, 3.82527911e-04],\n",
              "       [2.51082368e-02, 9.74358112e-01, 5.33651388e-04],\n",
              "       [1.09535865e-01, 8.85137327e-01, 5.32680822e-03],\n",
              "       [8.70023063e-02, 9.00178286e-01, 1.28194082e-02],\n",
              "       [9.75701747e-02, 8.89404686e-01, 1.30251391e-02]])"
            ]
          },
          "metadata": {},
          "execution_count": 28
        }
      ]
    },
    {
      "cell_type": "code",
      "metadata": {
        "colab": {
          "base_uri": "https://localhost:8080/",
          "height": 33
        },
        "id": "vIsykmJvavT8",
        "outputId": "44ced74a-5737-4c99-fd2d-d7150ddd5b09"
      },
      "source": [
        "print(\"SILHOUETTE: \", silhouette_score(X, cluster))"
      ],
      "execution_count": 29,
      "outputs": [
        {
          "output_type": "display_data",
          "data": {
            "text/html": [
              "<style> pre { white-space: pre-wrap; }</style>"
            ],
            "text/plain": [
              "<IPython.core.display.HTML object>"
            ]
          },
          "metadata": {}
        },
        {
          "output_type": "stream",
          "name": "stdout",
          "text": [
            "SILHOUETTE:  0.3365177677346481\n"
          ]
        }
      ]
    },
    {
      "cell_type": "code",
      "metadata": {
        "colab": {
          "base_uri": "https://localhost:8080/",
          "height": 464
        },
        "id": "bQT9zJ9ogJwb",
        "outputId": "818b97a9-8ce8-4168-92f4-a22f0c8f0e88"
      },
      "source": [
        "# K-Means clustering assumes that the clusters take the shape of clusters (round in shape).\n",
        "# In GMM, however, the clusters could be nuanced, which is why it is used.\n",
        "# (For one, clusters are not always spherical, for two, we also want to use the soft assignment instead of the hard assignment.)\n",
        "\n",
        "X[\"cluster\"] = cluster\n",
        "\n",
        "(ggplot(X, aes(x=\"Calories\", y=\"Sodium(mg)\", color=\"cluster\")) + geom_point())"
      ],
      "execution_count": 30,
      "outputs": [
        {
          "output_type": "display_data",
          "data": {
            "text/html": [
              "<style> pre { white-space: pre-wrap; }</style>"
            ],
            "text/plain": [
              "<IPython.core.display.HTML object>"
            ]
          },
          "metadata": {}
        },
        {
          "output_type": "display_data",
          "data": {
            "image/png": "[encoded data removed]",
            "text/plain": [
              "<Figure size 640x480 with 1 Axes>"
            ]
          },
          "metadata": {}
        },
        {
          "output_type": "execute_result",
          "data": {
            "text/plain": [
              "<ggplot: (8774496177189)>"
            ]
          },
          "metadata": {},
          "execution_count": 30
        }
      ]
    },
    {
      "cell_type": "markdown",
      "metadata": {
        "id": "tNC0WmUQDC8a"
      },
      "source": [
        "## Multiple Dimensions"
      ]
    },
    {
      "cell_type": "code",
      "metadata": {
        "id": "D_2ZCJ6pBo0l",
        "colab": {
          "base_uri": "https://localhost:8080/",
          "height": 415
        },
        "outputId": "459b0aa7-472c-4418-bce8-97b8d2b82260"
      },
      "source": [
        "features = [\"Sugar(g)\", \"Protein(g)\", \"Fat(g)\"]\n",
        "X = bk[features]\n",
        "\n",
        "z = StandardScaler()\n",
        "X[features] = z.fit_transform(X)\n",
        "X[features]"
      ],
      "execution_count": 31,
      "outputs": [
        {
          "output_type": "display_data",
          "data": {
            "text/html": [
              "<style> pre { white-space: pre-wrap; }</style>"
            ],
            "text/plain": [
              "<IPython.core.display.HTML object>"
            ]
          },
          "metadata": {}
        },
        {
          "output_type": "execute_result",
          "data": {
            "text/html": [
              "<div>\n",
              "<style scoped>\n",
              "    .dataframe tbody tr th:only-of-type {\n",
              "        vertical-align: middle;\n",
              "    }\n",
              "\n",
              "    .dataframe tbody tr th {\n",
              "        vertical-align: top;\n",
              "    }\n",
              "\n",
              "    .dataframe thead th {\n",
              "        text-align: right;\n",
              "    }\n",
              "</style>\n",
              "<table border=\"1\" class=\"dataframe\">\n",
              "  <thead>\n",
              "    <tr style=\"text-align: right;\">\n",
              "      <th></th>\n",
              "      <th>Sugar(g)</th>\n",
              "      <th>Protein(g)</th>\n",
              "      <th>Fat(g)</th>\n",
              "    </tr>\n",
              "  </thead>\n",
              "  <tbody>\n",
              "    <tr>\n",
              "      <th>0</th>\n",
              "      <td>-0.326804</td>\n",
              "      <td>-0.370060</td>\n",
              "      <td>-0.919796</td>\n",
              "    </tr>\n",
              "    <tr>\n",
              "      <th>1</th>\n",
              "      <td>-0.326804</td>\n",
              "      <td>-0.145073</td>\n",
              "      <td>-0.670844</td>\n",
              "    </tr>\n",
              "    <tr>\n",
              "      <th>2</th>\n",
              "      <td>-0.326804</td>\n",
              "      <td>0.304900</td>\n",
              "      <td>-0.421892</td>\n",
              "    </tr>\n",
              "    <tr>\n",
              "      <th>3</th>\n",
              "      <td>-0.326804</td>\n",
              "      <td>0.604882</td>\n",
              "      <td>0.076012</td>\n",
              "    </tr>\n",
              "    <tr>\n",
              "      <th>4</th>\n",
              "      <td>-0.326804</td>\n",
              "      <td>0.454891</td>\n",
              "      <td>-0.172940</td>\n",
              "    </tr>\n",
              "    <tr>\n",
              "      <th>...</th>\n",
              "      <td>...</td>\n",
              "      <td>...</td>\n",
              "      <td>...</td>\n",
              "    </tr>\n",
              "    <tr>\n",
              "      <th>117</th>\n",
              "      <td>0.166434</td>\n",
              "      <td>-0.670042</td>\n",
              "      <td>-1.542176</td>\n",
              "    </tr>\n",
              "    <tr>\n",
              "      <th>118</th>\n",
              "      <td>1.235119</td>\n",
              "      <td>-0.745038</td>\n",
              "      <td>-1.386581</td>\n",
              "    </tr>\n",
              "    <tr>\n",
              "      <th>119</th>\n",
              "      <td>3.125868</td>\n",
              "      <td>-0.745038</td>\n",
              "      <td>-0.857558</td>\n",
              "    </tr>\n",
              "    <tr>\n",
              "      <th>120</th>\n",
              "      <td>3.947933</td>\n",
              "      <td>-0.745038</td>\n",
              "      <td>-0.857558</td>\n",
              "    </tr>\n",
              "    <tr>\n",
              "      <th>121</th>\n",
              "      <td>3.865727</td>\n",
              "      <td>-0.745038</td>\n",
              "      <td>-0.857558</td>\n",
              "    </tr>\n",
              "  </tbody>\n",
              "</table>\n",
              "<p>122 rows × 3 columns</p>\n",
              "</div>"
            ],
            "text/plain": [
              "     Sugar(g)  Protein(g)    Fat(g)\n",
              "0   -0.326804   -0.370060 -0.919796\n",
              "1   -0.326804   -0.145073 -0.670844\n",
              "2   -0.326804    0.304900 -0.421892\n",
              "3   -0.326804    0.604882  0.076012\n",
              "4   -0.326804    0.454891 -0.172940\n",
              "..        ...         ...       ...\n",
              "117  0.166434   -0.670042 -1.542176\n",
              "118  1.235119   -0.745038 -1.386581\n",
              "119  3.125868   -0.745038 -0.857558\n",
              "120  3.947933   -0.745038 -0.857558\n",
              "121  3.865727   -0.745038 -0.857558\n",
              "\n",
              "[122 rows x 3 columns]"
            ]
          },
          "metadata": {},
          "execution_count": 31
        }
      ]
    },
    {
      "cell_type": "code",
      "metadata": {
        "id": "-EF9s73vDE9y",
        "colab": {
          "base_uri": "https://localhost:8080/",
          "height": 84
        },
        "outputId": "e16e0cdd-b614-43e1-93ba-99893c97accf"
      },
      "source": [
        "EM = GaussianMixture(n_components=3)\n",
        "EM.fit(X)"
      ],
      "execution_count": 32,
      "outputs": [
        {
          "output_type": "display_data",
          "data": {
            "text/html": [
              "<style> pre { white-space: pre-wrap; }</style>"
            ],
            "text/plain": [
              "<IPython.core.display.HTML object>"
            ]
          },
          "metadata": {}
        },
        {
          "output_type": "execute_result",
          "data": {
            "text/plain": [
              "GaussianMixture(covariance_type='full', init_params='kmeans', max_iter=100,\n",
              "                means_init=None, n_components=3, n_init=1, precisions_init=None,\n",
              "                random_state=None, reg_covar=1e-06, tol=0.001, verbose=0,\n",
              "                verbose_interval=10, warm_start=False, weights_init=None)"
            ]
          },
          "metadata": {},
          "execution_count": 32
        }
      ]
    },
    {
      "cell_type": "code",
      "metadata": {
        "id": "AWXrVidODGYC",
        "colab": {
          "base_uri": "https://localhost:8080/",
          "height": 117
        },
        "outputId": "30019fdd-93cb-42ef-bd83-752a4d4be1f7"
      },
      "source": [
        "cluster = EM.predict(X)\n",
        "cluster"
      ],
      "execution_count": 33,
      "outputs": [
        {
          "output_type": "display_data",
          "data": {
            "text/html": [
              "<style> pre { white-space: pre-wrap; }</style>"
            ],
            "text/plain": [
              "<IPython.core.display.HTML object>"
            ]
          },
          "metadata": {}
        },
        {
          "output_type": "execute_result",
          "data": {
            "text/plain": [
              "array([0, 0, 0, 0, 0, 0, 0, 0, 0, 1, 1, 1, 1, 1, 1, 1, 1, 0, 0, 0, 0, 0,\n",
              "       0, 0, 0, 0, 0, 0, 0, 0, 0, 0, 0, 0, 0, 0, 0, 0, 0, 0, 0, 0, 0, 0,\n",
              "       0, 0, 0, 0, 2, 0, 0, 0, 2, 0, 0, 0, 0, 0, 0, 0, 0, 0, 0, 0, 0, 1,\n",
              "       0, 0, 0, 0, 0, 0, 0, 0, 0, 0, 0, 0, 0, 0, 0, 0, 0, 0, 0, 2, 2, 0,\n",
              "       0, 0, 0, 0, 2, 2, 2, 2, 2, 2, 0, 0, 0, 0, 0, 0, 0, 0, 0, 2, 2, 2,\n",
              "       2, 2, 2, 2, 2, 2, 2, 0, 2, 2, 2, 2])"
            ]
          },
          "metadata": {},
          "execution_count": 33
        }
      ]
    },
    {
      "cell_type": "code",
      "metadata": {
        "colab": {
          "base_uri": "https://localhost:8080/",
          "height": 33
        },
        "id": "K4c__VGEj4yZ",
        "outputId": "5bc3bea2-dcba-40a4-cc02-58c5167e02da"
      },
      "source": [
        "silhouette_score(X, cluster)"
      ],
      "execution_count": 34,
      "outputs": [
        {
          "output_type": "display_data",
          "data": {
            "text/html": [
              "<style> pre { white-space: pre-wrap; }</style>"
            ],
            "text/plain": [
              "<IPython.core.display.HTML object>"
            ]
          },
          "metadata": {}
        },
        {
          "output_type": "execute_result",
          "data": {
            "text/plain": [
              "0.41269446652563374"
            ]
          },
          "metadata": {},
          "execution_count": 34
        }
      ]
    },
    {
      "cell_type": "code",
      "metadata": {
        "colab": {
          "base_uri": "https://localhost:8080/",
          "height": 1000
        },
        "id": "_cEv1SvRkQzQ",
        "outputId": "c699a45a-f5e7-44d1-e6d6-34263f8110c5"
      },
      "source": [
        "EM.predict_proba(X)"
      ],
      "execution_count": 35,
      "outputs": [
        {
          "output_type": "display_data",
          "data": {
            "text/html": [
              "<style> pre { white-space: pre-wrap; }</style>"
            ],
            "text/plain": [
              "<IPython.core.display.HTML object>"
            ]
          },
          "metadata": {}
        },
        {
          "output_type": "execute_result",
          "data": {
            "text/plain": [
              "array([[9.99999415e-001, 6.61610659e-023, 5.85130020e-007],\n",
              "       [9.99999998e-001, 9.54619426e-019, 2.08090892e-009],\n",
              "       [1.00000000e+000, 8.26491593e-024, 5.65851237e-017],\n",
              "       [1.00000000e+000, 1.10138989e-010, 4.07225869e-021],\n",
              "       [1.00000000e+000, 1.54584050e-016, 5.71032883e-019],\n",
              "       [9.99999739e-001, 2.28985615e-017, 2.60794614e-007],\n",
              "       [1.00000000e+000, 3.23093253e-018, 1.78783299e-011],\n",
              "       [1.00000000e+000, 2.94114465e-014, 1.86268166e-029],\n",
              "       [9.75402027e-001, 2.45979727e-002, 7.97298032e-025],\n",
              "       [1.46256290e-001, 8.53743710e-001, 4.75716633e-051],\n",
              "       [1.10827980e-003, 9.98891720e-001, 1.44028577e-095],\n",
              "       [2.42696410e-006, 9.99997573e-001, 3.48854951e-138],\n",
              "       [4.20932548e-001, 5.79067452e-001, 3.88876052e-018],\n",
              "       [4.83532124e-001, 5.16467876e-001, 7.84132485e-021],\n",
              "       [2.97697682e-002, 9.70230232e-001, 2.05227689e-058],\n",
              "       [1.05952940e-002, 9.89404706e-001, 3.90622426e-066],\n",
              "       [1.05599883e-005, 9.99989440e-001, 4.20067008e-125],\n",
              "       [1.00000000e+000, 5.14905549e-015, 1.24525615e-036],\n",
              "       [5.85262251e-001, 4.14737749e-001, 1.54980904e-031],\n",
              "       [1.00000000e+000, 1.37557476e-111, 5.70345038e-052],\n",
              "       [1.00000000e+000, 2.96324998e-222, 6.51898090e-060],\n",
              "       [9.99135366e-001, 8.64634395e-004, 1.74845004e-024],\n",
              "       [1.00000000e+000, 1.90102633e-057, 1.36783762e-032],\n",
              "       [1.00000000e+000, 2.93656126e-016, 3.78686616e-014],\n",
              "       [1.00000000e+000, 2.40964015e-031, 9.23136195e-022],\n",
              "       [1.00000000e+000, 1.13230088e-023, 8.43731632e-020],\n",
              "       [1.00000000e+000, 2.22557934e-011, 5.90196387e-021],\n",
              "       [1.00000000e+000, 1.47788018e-041, 3.10886634e-036],\n",
              "       [9.99630166e-001, 6.40973435e-021, 3.69834420e-004],\n",
              "       [9.99994957e-001, 8.62210413e-010, 5.04212178e-006],\n",
              "       [9.97873142e-001, 1.57915430e-003, 5.47704072e-004],\n",
              "       [9.97384417e-001, 2.57520704e-003, 4.03760331e-005],\n",
              "       [9.94286128e-001, 5.71355533e-003, 3.16860623e-007],\n",
              "       [9.85647181e-001, 1.43528190e-002, 1.59052496e-010],\n",
              "       [9.98917023e-001, 1.41997338e-017, 1.08297744e-003],\n",
              "       [9.96056938e-001, 3.73957596e-018, 3.94306221e-003],\n",
              "       [9.99730340e-001, 2.60965575e-004, 8.69479602e-006],\n",
              "       [9.99437345e-001, 5.61304450e-004, 1.35087635e-006],\n",
              "       [9.99492864e-001, 5.06982576e-004, 1.53817201e-007],\n",
              "       [9.92885029e-001, 7.11497115e-003, 1.78018361e-014],\n",
              "       [8.65399808e-001, 1.34600192e-001, 4.04827224e-024],\n",
              "       [8.75488301e-001, 1.24511699e-001, 1.35638888e-019],\n",
              "       [9.85856678e-001, 1.41433215e-002, 3.27596809e-013],\n",
              "       [1.00000000e+000, 5.79824222e-051, 9.30010611e-021],\n",
              "       [1.00000000e+000, 3.35271034e-040, 5.25185069e-017],\n",
              "       [1.00000000e+000, 2.43747892e-030, 4.79292215e-019],\n",
              "       [1.00000000e+000, 5.47543023e-097, 8.57829885e-021],\n",
              "       [6.04207748e-001, 5.39728861e-014, 3.95792252e-001],\n",
              "       [5.23902380e-004, 1.26247479e-033, 9.99476098e-001],\n",
              "       [8.40946614e-001, 5.47022048e-004, 1.58506364e-001],\n",
              "       [7.40064325e-001, 3.63076620e-009, 2.59935671e-001],\n",
              "       [7.67407195e-001, 2.71364676e-011, 2.32592805e-001],\n",
              "       [4.93148332e-001, 3.10604783e-016, 5.06851668e-001],\n",
              "       [8.30045496e-001, 4.27714057e-009, 1.69954500e-001],\n",
              "       [8.62146162e-001, 4.29303867e-019, 1.37853838e-001],\n",
              "       [8.92067757e-001, 3.28887512e-034, 1.07932243e-001],\n",
              "       [9.30424370e-001, 1.62096517e-054, 6.95756298e-002],\n",
              "       [9.98223360e-001, 1.69866760e-003, 7.79725434e-005],\n",
              "       [1.00000000e+000, 4.42389912e-141, 1.92224425e-050],\n",
              "       [1.00000000e+000, 7.33850548e-019, 1.68023016e-024],\n",
              "       [9.73361445e-001, 7.76970369e-008, 2.66384771e-002],\n",
              "       [9.66254414e-001, 1.21318764e-006, 3.37443730e-002],\n",
              "       [1.00000000e+000, 2.02837686e-034, 1.53957518e-013],\n",
              "       [9.99999933e-001, 4.10147407e-008, 2.55337470e-008],\n",
              "       [9.99399871e-001, 9.95238697e-005, 5.00605262e-004],\n",
              "       [1.98837065e-050, 1.00000000e+000, 5.87241543e-015],\n",
              "       [1.00000000e+000, 9.25033815e-082, 1.44561108e-012],\n",
              "       [1.00000000e+000, 4.44974410e-022, 1.89858132e-017],\n",
              "       [6.72845206e-001, 3.27154794e-001, 2.82257110e-032],\n",
              "       [9.99225749e-001, 4.35318480e-004, 3.38932390e-004],\n",
              "       [9.99989671e-001, 1.19754400e-006, 9.13139550e-006],\n",
              "       [9.99999184e-001, 8.13427344e-007, 2.93493890e-009],\n",
              "       [1.00000000e+000, 7.66785269e-013, 1.91145566e-011],\n",
              "       [9.99222209e-001, 7.75038386e-004, 2.75244684e-006],\n",
              "       [1.00000000e+000, 1.05923873e-031, 2.84535342e-019],\n",
              "       [9.99158874e-001, 8.41125675e-004, 1.12775588e-011],\n",
              "       [1.00000000e+000, 1.82960431e-022, 1.01859925e-022],\n",
              "       [9.99999993e-001, 7.08566557e-009, 1.72889040e-014],\n",
              "       [9.99999997e-001, 3.34729750e-009, 1.56415629e-016],\n",
              "       [9.43143197e-001, 5.68568035e-002, 1.39104678e-021],\n",
              "       [9.99948902e-001, 4.71263969e-010, 5.10977477e-005],\n",
              "       [9.99862544e-001, 7.00464272e-015, 1.37456478e-004],\n",
              "       [9.96142192e-001, 3.85771042e-003, 9.76833027e-008],\n",
              "       [9.99999998e-001, 3.66220409e-022, 1.80981822e-009],\n",
              "       [9.98254040e-001, 1.74557375e-003, 3.86686784e-007],\n",
              "       [5.59068572e-046, 1.46321107e-104, 1.00000000e+000],\n",
              "       [8.59598517e-042, 7.31538996e-046, 1.00000000e+000],\n",
              "       [9.99728771e-001, 1.30760614e-004, 1.40468097e-004],\n",
              "       [9.18431487e-001, 3.99940386e-005, 8.15285185e-002],\n",
              "       [8.38057245e-001, 5.63061803e-022, 1.61942755e-001],\n",
              "       [9.82144298e-001, 1.13967722e-108, 1.78557024e-002],\n",
              "       [9.99396713e-001, 3.29088890e-206, 6.03287419e-004],\n",
              "       [4.45144826e-032, 8.25264245e-078, 1.00000000e+000],\n",
              "       [1.74993060e-011, 1.40194287e-018, 1.00000000e+000],\n",
              "       [6.13093812e-002, 2.72417274e-004, 9.38418202e-001],\n",
              "       [2.54775672e-005, 1.16135591e-003, 9.98813167e-001],\n",
              "       [7.47689557e-032, 1.01552230e-067, 1.00000000e+000],\n",
              "       [4.06549965e-028, 9.97769500e-021, 1.00000000e+000],\n",
              "       [1.00000000e+000, 4.17005898e-019, 1.13478931e-011],\n",
              "       [1.00000000e+000, 7.25829058e-045, 7.87771638e-014],\n",
              "       [9.99979441e-001, 2.31267588e-021, 2.05586315e-005],\n",
              "       [9.96472427e-001, 3.52737728e-003, 1.96022264e-007],\n",
              "       [1.00000000e+000, 5.05718840e-019, 2.80756205e-010],\n",
              "       [9.98436325e-001, 1.56367256e-003, 2.52383837e-009],\n",
              "       [9.99998802e-001, 1.19789283e-006, 3.26411395e-011],\n",
              "       [9.97508243e-001, 2.48807207e-003, 3.68500719e-006],\n",
              "       [9.99922555e-001, 7.74229010e-005, 2.18202626e-008],\n",
              "       [1.34132886e-029, 7.63455104e-037, 1.00000000e+000],\n",
              "       [3.46874670e-044, 1.21941932e-056, 1.00000000e+000],\n",
              "       [4.09978267e-019, 1.54209424e-030, 1.00000000e+000],\n",
              "       [3.30679365e-017, 4.82978668e-016, 1.00000000e+000],\n",
              "       [5.20420860e-033, 2.95132037e-086, 1.00000000e+000],\n",
              "       [4.97793541e-020, 3.23377273e-087, 1.00000000e+000],\n",
              "       [8.94897480e-055, 5.54573443e-236, 1.00000000e+000],\n",
              "       [4.19461912e-073, 5.08976058e-310, 1.00000000e+000],\n",
              "       [1.50598696e-030, 1.78549577e-059, 1.00000000e+000],\n",
              "       [4.46398071e-024, 4.68948876e-060, 1.00000000e+000],\n",
              "       [9.26218258e-001, 2.21491551e-085, 7.37817417e-002],\n",
              "       [1.91979846e-018, 1.37170210e-165, 1.00000000e+000],\n",
              "       [2.74276257e-082, 0.00000000e+000, 1.00000000e+000],\n",
              "       [4.06026306e-122, 0.00000000e+000, 1.00000000e+000],\n",
              "       [8.65735236e-118, 0.00000000e+000, 1.00000000e+000]])"
            ]
          },
          "metadata": {},
          "execution_count": 35
        }
      ]
    },
    {
      "cell_type": "code",
      "metadata": {
        "colab": {
          "base_uri": "https://localhost:8080/",
          "height": 464
        },
        "id": "FwR8OvYOkYeH",
        "outputId": "4a9f10bd-c703-4fe8-9d6d-bc1aa8bf5074"
      },
      "source": [
        "X[\"cluster\"] = cluster\n",
        "(ggplot(X, aes(x=\"Sugar(g)\", y=\"Fat(g)\", color=\"cluster\")) + geom_point)"
      ],
      "execution_count": 36,
      "outputs": [
        {
          "output_type": "display_data",
          "data": {
            "text/html": [
              "<style> pre { white-space: pre-wrap; }</style>"
            ],
            "text/plain": [
              "<IPython.core.display.HTML object>"
            ]
          },
          "metadata": {}
        },
        {
          "output_type": "display_data",
          "data": {
            "image/png": "[encoded data removed]",
            "text/plain": [
              "<Figure size 640x480 with 1 Axes>"
            ]
          },
          "metadata": {}
        },
        {
          "output_type": "execute_result",
          "data": {
            "text/plain": [
              "<ggplot: (8774496566173)>"
            ]
          },
          "metadata": {},
          "execution_count": 36
        }
      ]
    },
    {
      "cell_type": "code",
      "metadata": {
        "colab": {
          "base_uri": "https://localhost:8080/",
          "height": 464
        },
        "id": "XN61IrYfk35B",
        "outputId": "f2518a03-3c33-4622-ae90-eef778782dff"
      },
      "source": [
        "(ggplot(X, aes(x=\"Sugar(g)\", y=\"Protein(g)\", color=\"cluster\")) + geom_point())"
      ],
      "execution_count": 37,
      "outputs": [
        {
          "output_type": "display_data",
          "data": {
            "text/html": [
              "<style> pre { white-space: pre-wrap; }</style>"
            ],
            "text/plain": [
              "<IPython.core.display.HTML object>"
            ]
          },
          "metadata": {}
        },
        {
          "output_type": "display_data",
          "data": {
            "image/png": "[encoded data removed]",
            "text/plain": [
              "<Figure size 640x480 with 1 Axes>"
            ]
          },
          "metadata": {}
        },
        {
          "output_type": "execute_result",
          "data": {
            "text/plain": [
              "<ggplot: (8774496116361)>"
            ]
          },
          "metadata": {},
          "execution_count": 37
        }
      ]
    },
    {
      "cell_type": "code",
      "metadata": {
        "colab": {
          "base_uri": "https://localhost:8080/",
          "height": 464
        },
        "id": "mShxqoBUk3yM",
        "outputId": "baea025f-da17-409b-be52-6c3b6c924880"
      },
      "source": [
        "(ggplot(X, aes(x=\"Fat(g)\", y=\"Protein(g)\", color=\"cluster\")) + geom_point())"
      ],
      "execution_count": 38,
      "outputs": [
        {
          "output_type": "display_data",
          "data": {
            "text/html": [
              "<style> pre { white-space: pre-wrap; }</style>"
            ],
            "text/plain": [
              "<IPython.core.display.HTML object>"
            ]
          },
          "metadata": {}
        },
        {
          "output_type": "display_data",
          "data": {
            "image/png": "[encoded data removed]",
            "text/plain": [
              "<Figure size 640x480 with 1 Axes>"
            ]
          },
          "metadata": {}
        },
        {
          "output_type": "execute_result",
          "data": {
            "text/plain": [
              "<ggplot: (8774496097937)>"
            ]
          },
          "metadata": {},
          "execution_count": 38
        }
      ]
    }
  ]
}
